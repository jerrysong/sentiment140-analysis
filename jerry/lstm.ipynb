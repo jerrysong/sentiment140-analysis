{
 "cells": [
  {
   "cell_type": "code",
   "execution_count": 1,
   "metadata": {
    "_cell_guid": "6c53202d-5c34-4859-e7e9-8ef5c7068287"
   },
   "outputs": [
    {
     "name": "stderr",
     "output_type": "stream",
     "text": [
      "Using TensorFlow backend.\n"
     ]
    }
   ],
   "source": [
    "\"\"\"Reference: https://github.com/nagypeterjob/Sentiment-Analysis-NLTK-ML-LSTM/blob/master/lstm.ipynb\"\"\"\n",
    "\n",
    "import numpy as np \n",
    "import pandas as pd\n",
    "import matplotlib.pyplot as plt\n",
    "\n",
    "from collections import Counter\n",
    "from sklearn.feature_extraction.text import CountVectorizer\n",
    "from keras.preprocessing.text import Tokenizer\n",
    "from keras.preprocessing.sequence import pad_sequences\n",
    "from keras.models import Sequential\n",
    "from keras.layers import Dense, Embedding, CuDNNLSTM, CuDNNGRU, LSTM, SpatialDropout1D\n",
    "from sklearn.model_selection import train_test_split\n",
    "from keras.utils.np_utils import to_categorical\n",
    "import re"
   ]
  },
  {
   "cell_type": "markdown",
   "metadata": {
    "_cell_guid": "2bc2702e-d6f4-df5f-b80e-50ab23a6d29e"
   },
   "source": [
    "Only keeping the needed columns."
   ]
  },
  {
   "cell_type": "code",
   "execution_count": 2,
   "metadata": {
    "_cell_guid": "89c8c923-c0bf-7b35-9ab8-e63f00b74e5a"
   },
   "outputs": [],
   "source": [
    "train_data = pd.read_csv('../data/sentiment140_train.zip', encoding='ISO-8859-1', header=None, names=['sentiment','id','timestamp','type','user','text'])\n",
    "test_data = pd.read_csv('../data/sentiment140_test.zip', encoding='ISO-8859-1', header=None, names=['sentiment','id','timestamp','type','user','text'])\n",
    "\n",
    "# The original training data are sorted by sentiment value. Shuffle the training data for randomness\n",
    "train_data = train_data[['text','sentiment']].sample(frac=1, random_state=40)\n",
    "test_data = test_data[['text','sentiment']]"
   ]
  },
  {
   "cell_type": "code",
   "execution_count": 3,
   "metadata": {},
   "outputs": [],
   "source": [
    "def canonicalize_text(text):\n",
    "    text = text.lower()\n",
    "    # Normalize the empty space symbol\n",
    "    text = re.sub('[\\t\\n]', ' ', text)\n",
    "    # Eliminate non-alphanumeric characters\n",
    "    text = re.sub('[^a-zA-z0-9\\s]', '', text)\n",
    "    # Replace all digits by symbol `DG`\n",
    "    text = re.sub('\\d+', 'DG', text)\n",
    "    return text\n",
    "\n",
    "def preprocess(data):\n",
    "    data['text'] = data['text'].apply(canonicalize_text)\n",
    "\n",
    "preprocess(train_data)\n",
    "preprocess(test_data)"
   ]
  },
  {
   "cell_type": "code",
   "execution_count": 4,
   "metadata": {},
   "outputs": [
    {
     "data": {
      "text/plain": [
       "text         object\n",
       "sentiment     int64\n",
       "dtype: object"
      ]
     },
     "execution_count": 4,
     "metadata": {},
     "output_type": "execute_result"
    }
   ],
   "source": [
    "train_data.dtypes"
   ]
  },
  {
   "cell_type": "code",
   "execution_count": 5,
   "metadata": {},
   "outputs": [
    {
     "data": {
      "text/html": [
       "<div>\n",
       "<style scoped>\n",
       "    .dataframe tbody tr th:only-of-type {\n",
       "        vertical-align: middle;\n",
       "    }\n",
       "\n",
       "    .dataframe tbody tr th {\n",
       "        vertical-align: top;\n",
       "    }\n",
       "\n",
       "    .dataframe thead th {\n",
       "        text-align: right;\n",
       "    }\n",
       "</style>\n",
       "<table border=\"1\" class=\"dataframe\">\n",
       "  <thead>\n",
       "    <tr style=\"text-align: right;\">\n",
       "      <th></th>\n",
       "      <th>text</th>\n",
       "      <th>sentiment</th>\n",
       "    </tr>\n",
       "  </thead>\n",
       "  <tbody>\n",
       "    <tr>\n",
       "      <th>551218</th>\n",
       "      <td>i dont want to leave</td>\n",
       "      <td>0</td>\n",
       "    </tr>\n",
       "    <tr>\n",
       "      <th>1512535</th>\n",
       "      <td>good nite all sleep tight dont let the bed bug...</td>\n",
       "      <td>4</td>\n",
       "    </tr>\n",
       "    <tr>\n",
       "      <th>1295295</th>\n",
       "      <td>its a beautiful day guess whos going to see uD...</td>\n",
       "      <td>4</td>\n",
       "    </tr>\n",
       "    <tr>\n",
       "      <th>893979</th>\n",
       "      <td>yay for ikea swedish meatballs</td>\n",
       "      <td>4</td>\n",
       "    </tr>\n",
       "    <tr>\n",
       "      <th>279338</th>\n",
       "      <td>and god knows how many more singstar and buzz ...</td>\n",
       "      <td>0</td>\n",
       "    </tr>\n",
       "    <tr>\n",
       "      <th>886145</th>\n",
       "      <td>rosie_edward thanks you so much for following ...</td>\n",
       "      <td>4</td>\n",
       "    </tr>\n",
       "    <tr>\n",
       "      <th>1504955</th>\n",
       "      <td>good morning all hope ur day started well</td>\n",
       "      <td>4</td>\n",
       "    </tr>\n",
       "    <tr>\n",
       "      <th>728643</th>\n",
       "      <td>so bored weekend is almost over</td>\n",
       "      <td>0</td>\n",
       "    </tr>\n",
       "    <tr>\n",
       "      <th>1005200</th>\n",
       "      <td>carlaloo jajanika found our entry woohoo check...</td>\n",
       "      <td>4</td>\n",
       "    </tr>\n",
       "    <tr>\n",
       "      <th>1148569</th>\n",
       "      <td>ooh look who seems to be working tonight way t...</td>\n",
       "      <td>4</td>\n",
       "    </tr>\n",
       "  </tbody>\n",
       "</table>\n",
       "</div>"
      ],
      "text/plain": [
       "                                                      text  sentiment\n",
       "551218                               i dont want to leave           0\n",
       "1512535  good nite all sleep tight dont let the bed bug...          4\n",
       "1295295  its a beautiful day guess whos going to see uD...          4\n",
       "893979                     yay for ikea swedish meatballs           4\n",
       "279338   and god knows how many more singstar and buzz ...          0\n",
       "886145   rosie_edward thanks you so much for following ...          4\n",
       "1504955         good morning all hope ur day started well           4\n",
       "728643                    so bored weekend is almost over           0\n",
       "1005200  carlaloo jajanika found our entry woohoo check...          4\n",
       "1148569  ooh look who seems to be working tonight way t...          4"
      ]
     },
     "execution_count": 5,
     "metadata": {},
     "output_type": "execute_result"
    }
   ],
   "source": [
    "train_data.head(10)"
   ]
  },
  {
   "cell_type": "code",
   "execution_count": 6,
   "metadata": {},
   "outputs": [
    {
     "data": {
      "text/plain": [
       "array([0, 4])"
      ]
     },
     "execution_count": 6,
     "metadata": {},
     "output_type": "execute_result"
    }
   ],
   "source": [
    "train_data['sentiment'].unique()"
   ]
  },
  {
   "cell_type": "code",
   "execution_count": 7,
   "metadata": {},
   "outputs": [],
   "source": [
    "def get_corpus_vocabulary(df):\n",
    "    vocabulary = Counter()\n",
    "    for _, row in df.iterrows():\n",
    "        words = row['text'].split()\n",
    "        for word in words:\n",
    "            vocabulary[word] += 1\n",
    "    return vocabulary\n",
    "\n",
    "vocabulary = get_corpus_vocabulary(train_data)"
   ]
  },
  {
   "cell_type": "markdown",
   "metadata": {},
   "source": [
    "Plot the word count histogram of the training data"
   ]
  },
  {
   "cell_type": "code",
   "execution_count": 8,
   "metadata": {},
   "outputs": [
    {
     "name": "stdout",
     "output_type": "stream",
     "text": [
      "[1, 1, 1, 2, 2, 2, 3, 3, 4, 4, 5, 5, 6, 7, 8, 9, 9, 10, 11, 12, 14, 15, 16, 17, 19, 20, 22, 24, 26, 28, 30, 33, 35, 38, 41, 44, 47, 51, 55, 59, 63, 68, 73, 78, 83, 89, 95, 102, 109, 117, 125, 134, 143, 154, 167, 180, 194, 210, 227, 245, 265, 287, 310, 335, 363, 392, 426, 464, 506, 554, 608, 668, 736, 815, 906, 1011, 1133, 1277, 1445, 1643, 1878, 2163, 2508, 2930, 3459, 4132, 5006, 6160, 7727, 9966, 13383, 18923, 28375, 45063, 75112, 129493, 223083, 402773, 611300, 819826]\n"
     ]
    },
    {
     "data": {
      "text/plain": [
       "<BarContainer object of 100 artists>"
      ]
     },
     "execution_count": 8,
     "metadata": {},
     "output_type": "execute_result"
    },
    {
     "data": {
      "image/png": "[encoded data removed]",
      "text/plain": [
       "<Figure size 432x288 with 1 Axes>"
      ]
     },
     "metadata": {},
     "output_type": "display_data"
    }
   ],
   "source": [
    "corpus_total_cnt = sum(vocabulary.values())\n",
    "sorted_by_wd_cnt = sorted(((cnt, wd) for wd, cnt in vocabulary.items()), reverse=True)\n",
    "\n",
    "plt_points = []\n",
    "accu = 0\n",
    "j = 0\n",
    "for i in range(1, 101):\n",
    "    while accu < (corpus_total_cnt * i / 100.0):\n",
    "        accu += sorted_by_wd_cnt[j][0]\n",
    "        j += 1\n",
    "    plt_points.append(j)\n",
    "    \n",
    "print(plt_points)\n",
    "plt.bar(range(1, 101), plt_points)"
   ]
  },
  {
   "cell_type": "markdown",
   "metadata": {},
   "source": [
    "The top 10000 words account for 90% word occurance of the entire corpus."
   ]
  },
  {
   "cell_type": "code",
   "execution_count": 9,
   "metadata": {},
   "outputs": [
    {
     "name": "stdout",
     "output_type": "stream",
     "text": [
      "The size of the training corpus: 819826\n",
      "The top 10 words are: [(750807, 'i'), (564547, 'to'), (520035, 'the'), (377569, 'a'), (314054, 'my'), (298347, 'and'), (270065, 'you'), (236007, 'is'), (230839, 'it'), (215690, 'for')]\n",
      "The least 10 words are: [(1, 'DG_DGmagazine'), (1, 'DG_DGchick'), (1, 'DG_DG_manytweets'), (1, 'DG_DG_hustle_ent'), (1, 'DG_'), (1, 'DG^o'), (1, 'DG^eDG'), (1, 'DG^c'), (1, 'DG^'), (1, 'DG\\\\quot')]\n"
     ]
    }
   ],
   "source": [
    "print('The size of the training corpus: {}'.format(len(vocabulary)))\n",
    "print('The top 10 words are: {}'.format(sorted_by_wd_cnt[:10]))\n",
    "print('The least 10 words are: {}'.format(sorted_by_wd_cnt[-10:]))"
   ]
  },
  {
   "cell_type": "code",
   "execution_count": 10,
   "metadata": {},
   "outputs": [
    {
     "data": {
      "text/html": [
       "<div>\n",
       "<style scoped>\n",
       "    .dataframe tbody tr th:only-of-type {\n",
       "        vertical-align: middle;\n",
       "    }\n",
       "\n",
       "    .dataframe tbody tr th {\n",
       "        vertical-align: top;\n",
       "    }\n",
       "\n",
       "    .dataframe thead th {\n",
       "        text-align: right;\n",
       "    }\n",
       "</style>\n",
       "<table border=\"1\" class=\"dataframe\">\n",
       "  <thead>\n",
       "    <tr style=\"text-align: right;\">\n",
       "      <th></th>\n",
       "      <th>text</th>\n",
       "      <th>sentiment</th>\n",
       "    </tr>\n",
       "  </thead>\n",
       "  <tbody>\n",
       "    <tr>\n",
       "      <th>0</th>\n",
       "      <td>stellargirl i loooooooovvvvvveee my kindleDG n...</td>\n",
       "      <td>4</td>\n",
       "    </tr>\n",
       "    <tr>\n",
       "      <th>1</th>\n",
       "      <td>reading my kindleDG  love it lee childs is goo...</td>\n",
       "      <td>4</td>\n",
       "    </tr>\n",
       "    <tr>\n",
       "      <th>2</th>\n",
       "      <td>ok first assesment of the kindleDG it fucking ...</td>\n",
       "      <td>4</td>\n",
       "    </tr>\n",
       "    <tr>\n",
       "      <th>3</th>\n",
       "      <td>kenburbary youll love your kindleDG ive had mi...</td>\n",
       "      <td>4</td>\n",
       "    </tr>\n",
       "    <tr>\n",
       "      <th>4</th>\n",
       "      <td>mikefish  fair enough but i have the kindleDG ...</td>\n",
       "      <td>4</td>\n",
       "    </tr>\n",
       "    <tr>\n",
       "      <th>5</th>\n",
       "      <td>richardebaker no it is too big im quite happy ...</td>\n",
       "      <td>4</td>\n",
       "    </tr>\n",
       "    <tr>\n",
       "      <th>6</th>\n",
       "      <td>fuck this economy i hate aig and their non loa...</td>\n",
       "      <td>0</td>\n",
       "    </tr>\n",
       "    <tr>\n",
       "      <th>7</th>\n",
       "      <td>jquery is my new best friend</td>\n",
       "      <td>4</td>\n",
       "    </tr>\n",
       "    <tr>\n",
       "      <th>8</th>\n",
       "      <td>loves twitter</td>\n",
       "      <td>4</td>\n",
       "    </tr>\n",
       "    <tr>\n",
       "      <th>9</th>\n",
       "      <td>how can you not love obama he makes jokes abou...</td>\n",
       "      <td>4</td>\n",
       "    </tr>\n",
       "  </tbody>\n",
       "</table>\n",
       "</div>"
      ],
      "text/plain": [
       "                                                text  sentiment\n",
       "0  stellargirl i loooooooovvvvvveee my kindleDG n...          4\n",
       "1  reading my kindleDG  love it lee childs is goo...          4\n",
       "2  ok first assesment of the kindleDG it fucking ...          4\n",
       "3  kenburbary youll love your kindleDG ive had mi...          4\n",
       "4  mikefish  fair enough but i have the kindleDG ...          4\n",
       "5  richardebaker no it is too big im quite happy ...          4\n",
       "6  fuck this economy i hate aig and their non loa...          0\n",
       "7                       jquery is my new best friend          4\n",
       "8                                      loves twitter          4\n",
       "9  how can you not love obama he makes jokes abou...          4"
      ]
     },
     "execution_count": 10,
     "metadata": {},
     "output_type": "execute_result"
    }
   ],
   "source": [
    "test_data.head(10)"
   ]
  },
  {
   "cell_type": "code",
   "execution_count": 11,
   "metadata": {},
   "outputs": [
    {
     "data": {
      "text/plain": [
       "array([4, 0, 2])"
      ]
     },
     "execution_count": 11,
     "metadata": {},
     "output_type": "execute_result"
    }
   ],
   "source": [
    "test_data['sentiment'].unique()"
   ]
  },
  {
   "cell_type": "markdown",
   "metadata": {},
   "source": [
    "Remove rows with neural sentiment score from the test data, since they don't exist in the train data"
   ]
  },
  {
   "cell_type": "code",
   "execution_count": 12,
   "metadata": {},
   "outputs": [
    {
     "data": {
      "text/plain": [
       "array([4, 0])"
      ]
     },
     "execution_count": 12,
     "metadata": {},
     "output_type": "execute_result"
    }
   ],
   "source": [
    "test_data = test_data[test_data['sentiment'].isin([0, 4])]\n",
    "test_data['sentiment'].unique()"
   ]
  },
  {
   "cell_type": "code",
   "execution_count": 13,
   "metadata": {},
   "outputs": [
    {
     "name": "stdout",
     "output_type": "stream",
     "text": [
      "Positive rows: 800000\n",
      "Negative rows: 800000\n"
     ]
    }
   ],
   "source": [
    "print('Positive rows: {}'.format(train_data[ train_data['sentiment'] == 4]['sentiment'].size))\n",
    "print('Negative rows: {}'.format(train_data[ train_data['sentiment'] == 0]['sentiment'].size))"
   ]
  },
  {
   "cell_type": "code",
   "execution_count": 14,
   "metadata": {
    "_cell_guid": "43632d2d-6160-12ce-48b0-e5eb1c207076"
   },
   "outputs": [],
   "source": [
    "# Only keep top 10000 words in the corpus.\n",
    "max_fatures = 10000\n",
    "tokenizer = Tokenizer(num_words=max_fatures, split=' ')\n",
    "tokenizer.fit_on_texts(train_data['text'].values)"
   ]
  },
  {
   "cell_type": "code",
   "execution_count": 15,
   "metadata": {},
   "outputs": [],
   "source": [
    "X_train = tokenizer.texts_to_sequences(train_data['text'].values)\n",
    "X_train = pad_sequences(X_train)\n",
    "\n",
    "X_test = tokenizer.texts_to_sequences(test_data['text'].values)\n",
    "X_test = pad_sequences(X_test, maxlen=X_train.shape[1])"
   ]
  },
  {
   "cell_type": "code",
   "execution_count": 16,
   "metadata": {},
   "outputs": [
    {
     "name": "stdout",
     "output_type": "stream",
     "text": [
      "The shape of X_train: (1600000, 40)\n",
      "The shape of X_test: (359, 40)\n"
     ]
    }
   ],
   "source": [
    "print('The shape of X_train: {}'.format(X_train.shape))\n",
    "print('The shape of X_test: {}'.format(X_test.shape))"
   ]
  },
  {
   "cell_type": "code",
   "execution_count": 17,
   "metadata": {},
   "outputs": [
    {
     "name": "stdout",
     "output_type": "stream",
     "text": [
      "[  0   0   0   0   0   0   0   0   0   0   0   0   0   0   0   0   0   0\n",
      "   0   0   0   0   0   0   0   0   0   0   0   0   0   0   0   0   0   1\n",
      "  40  70   2 343]\n",
      "[   0    0    0    0    0    0    0    0    0    0    0    0    0    0\n",
      "    0    0    0    0    0    0    0    0    0    1    5   26   19    3\n",
      " 9685    8  196   20    3   12    8 1010   11   25  485  112]\n"
     ]
    }
   ],
   "source": [
    "print(X_train[0])\n",
    "print(X_test[0])"
   ]
  },
  {
   "cell_type": "code",
   "execution_count": 18,
   "metadata": {
    "_cell_guid": "b35748b8-2353-3db2-e571-5fd22bb93eb0"
   },
   "outputs": [
    {
     "name": "stdout",
     "output_type": "stream",
     "text": [
      "The shape of Y_train: (1600000, 2)\n",
      "The shape of Y_test: (359, 2)\n"
     ]
    }
   ],
   "source": [
    "Y_train = pd.get_dummies(train_data['sentiment']).values\n",
    "Y_test = pd.get_dummies(test_data['sentiment']).values\n",
    "print('The shape of Y_train: {}'.format(Y_train.shape))\n",
    "print('The shape of Y_test: {}'.format(Y_test.shape))"
   ]
  },
  {
   "cell_type": "code",
   "execution_count": 19,
   "metadata": {},
   "outputs": [
    {
     "name": "stdout",
     "output_type": "stream",
     "text": [
      "[[1 0]\n",
      " [0 1]\n",
      " [0 1]\n",
      " [0 1]\n",
      " [1 0]\n",
      " [0 1]\n",
      " [0 1]\n",
      " [1 0]\n",
      " [0 1]\n",
      " [0 1]]\n",
      "[[0 1]\n",
      " [0 1]\n",
      " [0 1]\n",
      " [0 1]\n",
      " [0 1]\n",
      " [0 1]\n",
      " [1 0]\n",
      " [0 1]\n",
      " [0 1]\n",
      " [0 1]]\n"
     ]
    }
   ],
   "source": [
    "print(Y_train[:10])\n",
    "print(Y_test[:10])"
   ]
  },
  {
   "cell_type": "code",
   "execution_count": 20,
   "metadata": {},
   "outputs": [],
   "source": [
    "size_limit = len(X_train)\n",
    "X_train_sample, Y_train_sample = X_train[:size_limit], Y_train[:size_limit]"
   ]
  },
  {
   "cell_type": "markdown",
   "metadata": {},
   "source": [
    "We should explore LSTM, CuDNNLSTM, GRU, CuDNNGRU cells. CuDNN cells have following limitations: 1. The activation function has to be `tanh`. 2. It doesn't support dropout."
   ]
  },
  {
   "cell_type": "code",
   "execution_count": 21,
   "metadata": {},
   "outputs": [],
   "source": [
    "def get_cudnn_lstm_model(input_length, max_fatures, embed_dim, lstm_out, dropout=0):\n",
    "    model = Sequential()\n",
    "    model.add(Embedding(max_fatures, embed_dim, input_length=input_length))\n",
    "    \n",
    "    # Given shape(x) = [samples, timesteps, channels], it uses noise_shape = [samples, 1, channels] and drops \n",
    "    # entire 1-D feature maps. Dropout matrix with this shape applies the same dropout rate at all timesteps.\n",
    "    model.add(SpatialDropout1D(rate=dropout))\n",
    "    # input dropout and recurrent dropout are not available for CuDNN celss\n",
    "    model.add(CuDNNLSTM(lstm_out))\n",
    "    model.add(Dense(2, activation='softmax'))\n",
    "    model.compile(loss = 'categorical_crossentropy', optimizer='adam', metrics = ['accuracy'])\n",
    "    print(model.summary())\n",
    "    return model\n",
    "\n",
    "def get_cudnn_gru_model(input_length, max_fatures, embed_dim, lstm_out, dropout=0):\n",
    "    model = Sequential()\n",
    "    model.add(Embedding(max_fatures, embed_dim, input_length=input_length))\n",
    "    \n",
    "    # Given shape(x) = [samples, timesteps, channels], it uses noise_shape = [samples, 1, channels] and drops \n",
    "    # entire 1-D feature maps. Dropout matrix with this shape applies the same dropout rate at all timesteps.\n",
    "    model.add(SpatialDropout1D(rate=dropout))\n",
    "    # input dropout and recurrent dropout are not available for CuDNN celss\n",
    "    model.add(CuDNNGRU(lstm_out, return_sequences=True))\n",
    "    model.add(CuDNNGRU(lstm_out))\n",
    "    model.add(Dense(2, activation='softmax'))\n",
    "    model.compile(loss = 'categorical_crossentropy', optimizer='adam', metrics = ['accuracy'])\n",
    "    print(model.summary())\n",
    "    return model\n",
    "\n",
    "def get_cpu_model(input_length, max_fatures, embed_dim, lstm_out, input_dropout=0, recurrent_dropout=0):\n",
    "    model = Sequential()\n",
    "    model.add(Embedding(max_fatures, embed_dim, input_length=input_length))\n",
    "\n",
    "    model.add(LSTM(lstm_out, dropout=input_dropout, recurrent_dropout=recurrent_dropout))\n",
    "    model.add(Dense(2, activation='softmax'))\n",
    "    model.compile(loss = 'categorical_crossentropy', optimizer='adam', metrics = ['accuracy'])\n",
    "    print(model.summary())\n",
    "    return model"
   ]
  },
  {
   "cell_type": "code",
   "execution_count": 22,
   "metadata": {},
   "outputs": [],
   "source": [
    "# Hyperparameters tuning for LSTM: https://arxiv.org/pdf/1707.06799.pdf\n",
    "embed_dim = 200\n",
    "lstm_out = 100\n",
    "# Why 0.5: https://www.reddit.com/r/MachineLearning/comments/3oztvk/why_50_when_using_dropout/\n",
    "# Variational Dropout: https://arxiv.org/pdf/1512.05287.pdf\n",
    "input_dropout = 0.5\n",
    "recurrent_dropout = 0.5"
   ]
  },
  {
   "cell_type": "code",
   "execution_count": 24,
   "metadata": {},
   "outputs": [
    {
     "name": "stdout",
     "output_type": "stream",
     "text": [
      "_________________________________________________________________\n",
      "Layer (type)                 Output Shape              Param #   \n",
      "=================================================================\n",
      "embedding_2 (Embedding)      (None, 40, 200)           2000000   \n",
      "_________________________________________________________________\n",
      "spatial_dropout1d_2 (Spatial (None, 40, 200)           0         \n",
      "_________________________________________________________________\n",
      "cu_dnnlstm_2 (CuDNNLSTM)     (None, 100)               120800    \n",
      "_________________________________________________________________\n",
      "dense_2 (Dense)              (None, 2)                 202       \n",
      "=================================================================\n",
      "Total params: 2,121,002\n",
      "Trainable params: 2,121,002\n",
      "Non-trainable params: 0\n",
      "_________________________________________________________________\n",
      "None\n",
      "Epoch 1/7\n",
      " - 150s - loss: 0.4227 - acc: 0.8045\n",
      "Epoch 2/7\n",
      " - 115s - loss: 0.3906 - acc: 0.8227\n",
      "Epoch 3/7\n",
      " - 115s - loss: 0.3769 - acc: 0.8302\n",
      "Epoch 4/7\n",
      " - 115s - loss: 0.3667 - acc: 0.8356\n",
      "Epoch 5/7\n",
      " - 115s - loss: 0.3587 - acc: 0.8396\n",
      "Epoch 6/7\n",
      " - 115s - loss: 0.3526 - acc: 0.8431\n",
      "Epoch 7/7\n",
      " - 115s - loss: 0.3476 - acc: 0.8454\n",
      "score: 0.36588734\n",
      "acc: 0.82729805\n"
     ]
    }
   ],
   "source": [
    "cudnn_lstm_model = get_cudnn_lstm_model(X_train.shape[1], max_fatures, embed_dim, lstm_out, input_dropout)\n",
    "\n",
    "batch_size = 256\n",
    "cudnn_lstm_model.fit(X_train_sample, Y_train_sample, epochs = 7, batch_size=batch_size, verbose = 2)\n",
    "\n",
    "score, acc = cudnn_lstm_model.evaluate(X_test, Y_test, verbose = 2, batch_size = batch_size)\n",
    "print(\"score: %.8f\" % (score))\n",
    "print(\"acc: %.8f\" % (acc))\n",
    "\n",
    "cudnn_lstm_model.save('../models/cudnn_lstm_model.h5')"
   ]
  },
  {
   "cell_type": "code",
   "execution_count": 96,
   "metadata": {
    "_cell_guid": "d5e499ac-2eba-6ff7-8d9a-ff65eb04099b"
   },
   "outputs": [
    {
     "name": "stdout",
     "output_type": "stream",
     "text": [
      "Epoch 1/7\n",
      " - 431s - loss: 0.3807 - acc: 0.8286\n",
      "Epoch 2/7\n",
      " - 432s - loss: 0.3647 - acc: 0.8366\n",
      "Epoch 3/7\n",
      " - 432s - loss: 0.3522 - acc: 0.8432\n",
      "Epoch 4/7\n",
      " - 432s - loss: 0.3421 - acc: 0.8482\n",
      "Epoch 5/7\n",
      " - 432s - loss: 0.3335 - acc: 0.8525\n",
      "Epoch 6/7\n",
      " - 432s - loss: 0.3264 - acc: 0.8563\n",
      "Epoch 7/7\n",
      " - 431s - loss: 0.3207 - acc: 0.8592\n"
     ]
    },
    {
     "data": {
      "text/plain": [
       "<keras.callbacks.History at 0x7ff379ab3630>"
      ]
     },
     "execution_count": 96,
     "metadata": {},
     "output_type": "execute_result"
    }
   ],
   "source": [
    "batch_size = 256\n",
    "cudnn_lstm_model.fit(X_train_sample, Y_train_sample, epochs = 7, batch_size=batch_size, verbose = 2)"
   ]
  },
  {
   "cell_type": "markdown",
   "metadata": {
    "_cell_guid": "4ebd7bc1-53c0-0e31-a0b0-b6d0a3017434"
   },
   "source": [
    "Extracting a validation set, and measuring score and accuracy."
   ]
  },
  {
   "cell_type": "code",
   "execution_count": 97,
   "metadata": {
    "_cell_guid": "a970f412-722f-6d6d-72c8-325d0901ccef"
   },
   "outputs": [
    {
     "name": "stdout",
     "output_type": "stream",
     "text": [
      "score: 0.37152850\n",
      "acc: 0.83286907\n"
     ]
    }
   ],
   "source": [
    "score, acc = cudnn_lstm_model.evaluate(X_test, Y_test, verbose = 2, batch_size = batch_size)\n",
    "print(\"score: %.8f\" % (score))\n",
    "print(\"acc: %.8f\" % (acc))"
   ]
  },
  {
   "cell_type": "code",
   "execution_count": 103,
   "metadata": {},
   "outputs": [
    {
     "name": "stdout",
     "output_type": "stream",
     "text": [
      "_________________________________________________________________\n",
      "Layer (type)                 Output Shape              Param #   \n",
      "=================================================================\n",
      "embedding_8 (Embedding)      (None, 40, 200)           2000000   \n",
      "_________________________________________________________________\n",
      "spatial_dropout1d_8 (Spatial (None, 40, 200)           0         \n",
      "_________________________________________________________________\n",
      "cu_dnngru_1 (CuDNNGRU)       (None, 40, 500)           1053000   \n",
      "_________________________________________________________________\n",
      "cu_dnngru_2 (CuDNNGRU)       (None, 500)               1503000   \n",
      "_________________________________________________________________\n",
      "dense_7 (Dense)              (None, 2)                 1002      \n",
      "=================================================================\n",
      "Total params: 4,557,002\n",
      "Trainable params: 4,557,002\n",
      "Non-trainable params: 0\n",
      "_________________________________________________________________\n",
      "None\n"
     ]
    }
   ],
   "source": [
    "cudnn_gru_model = get_cudnn_gru_model(X_train.shape[1], max_fatures, embed_dim, lstm_out, input_dropout)"
   ]
  },
  {
   "cell_type": "code",
   "execution_count": 104,
   "metadata": {},
   "outputs": [
    {
     "name": "stdout",
     "output_type": "stream",
     "text": [
      "Epoch 1/7\n",
      " - 773s - loss: 0.4213 - acc: 0.8053\n",
      "Epoch 2/7\n",
      " - 770s - loss: 0.3868 - acc: 0.8248\n",
      "Epoch 3/7\n",
      " - 771s - loss: 0.3714 - acc: 0.8336\n",
      "Epoch 4/7\n",
      " - 771s - loss: 0.3599 - acc: 0.8395\n",
      "Epoch 5/7\n",
      " - 771s - loss: 0.3517 - acc: 0.8435\n",
      "Epoch 6/7\n",
      " - 771s - loss: 0.3466 - acc: 0.8465\n",
      "Epoch 7/7\n",
      " - 772s - loss: 0.3433 - acc: 0.8482\n"
     ]
    },
    {
     "data": {
      "text/plain": [
       "<keras.callbacks.History at 0x7ff37cc0d630>"
      ]
     },
     "execution_count": 104,
     "metadata": {},
     "output_type": "execute_result"
    }
   ],
   "source": [
    "batch_size = 256\n",
    "cudnn_gru_model.fit(X_train_sample, Y_train_sample, epochs = 7, batch_size=batch_size, verbose = 2)"
   ]
  },
  {
   "cell_type": "code",
   "execution_count": 106,
   "metadata": {},
   "outputs": [
    {
     "name": "stdout",
     "output_type": "stream",
     "text": [
      "score: 0.39665206\n",
      "acc: 0.81615599\n"
     ]
    }
   ],
   "source": [
    "score, acc = cudnn_gru_model.evaluate(X_test, Y_test, verbose = 2, batch_size = batch_size)\n",
    "print(\"score: %.8f\" % (score))\n",
    "print(\"acc: %.8f\" % (acc))"
   ]
  },
  {
   "cell_type": "markdown",
   "metadata": {},
   "source": [
    "To improve:\n",
    "1. The model is suffering from overfitting. We should add more dropout layers and try other regularization methods.\n",
    "2. Systematically search for the optimal combination of hyperparameters\n",
    "3. Try pretrained embedding, bidirectional RNN, combination of word and character level embedding"
   ]
  },
  {
   "cell_type": "code",
   "execution_count": null,
   "metadata": {},
   "outputs": [],
   "source": []
  }
 ],
 "metadata": {
  "_change_revision": 185,
  "_is_fork": false,
  "kernelspec": {
   "display_name": "Python 3",
   "language": "python",
   "name": "python3"
  },
  "language_info": {
   "codemirror_mode": {
    "name": "ipython",
    "version": 3
   },
   "file_extension": ".py",
   "mimetype": "text/x-python",
   "name": "python",
   "nbconvert_exporter": "python",
   "pygments_lexer": "ipython3",
   "version": "3.5.3"
  }
 },
 "nbformat": 4,
 "nbformat_minor": 1
}
