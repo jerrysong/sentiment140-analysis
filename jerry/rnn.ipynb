{
 "cells": [
  {
   "cell_type": "code",
   "execution_count": 1,
   "metadata": {
    "_cell_guid": "6c53202d-5c34-4859-e7e9-8ef5c7068287"
   },
   "outputs": [
    {
     "name": "stderr",
     "output_type": "stream",
     "text": [
      "Using TensorFlow backend.\n"
     ]
    },
    {
     "data": {
      "text/plain": [
       "<module 'models' from '/home/jerrysong/w266-Final-project/jerry/models.py'>"
      ]
     },
     "execution_count": 1,
     "metadata": {},
     "output_type": "execute_result"
    }
   ],
   "source": [
    "\"\"\"Reference: https://github.com/nagypeterjob/Sentiment-Analysis-NLTK-ML-LSTM/blob/master/lstm.ipynb\"\"\"\n",
    "\n",
    "import numpy as np \n",
    "import pandas as pd\n",
    "import matplotlib.pyplot as plt\n",
    "import importlib\n",
    "import utils\n",
    "import models\n",
    "\n",
    "from collections import Counter\n",
    "from sklearn.feature_extraction.text import CountVectorizer\n",
    "from keras.preprocessing.text import Tokenizer\n",
    "from keras.preprocessing.sequence import pad_sequences\n",
    "from keras.models import Sequential\n",
    "from keras.layers import Dense, Embedding, CuDNNLSTM, CuDNNGRU, LSTM, GRU, SpatialDropout1D, Bidirectional\n",
    "from sklearn.model_selection import train_test_split\n",
    "from sklearn.utils import shuffle\n",
    "from keras.utils.np_utils import to_categorical\n",
    "import re\n",
    "import zipfile\n",
    "\n",
    "importlib.reload(utils)\n",
    "importlib.reload(models)"
   ]
  },
  {
   "cell_type": "markdown",
   "metadata": {
    "_cell_guid": "2bc2702e-d6f4-df5f-b80e-50ab23a6d29e"
   },
   "source": [
    "Only keeping the needed columns."
   ]
  },
  {
   "cell_type": "code",
   "execution_count": 35,
   "metadata": {
    "_cell_guid": "89c8c923-c0bf-7b35-9ab8-e63f00b74e5a"
   },
   "outputs": [],
   "source": [
    "train_data = pd.read_csv('../data/fully_cleansed_train_data.csv', encoding='ISO-8859-1', keep_default_na=False)\n",
    "dev_data = pd.read_csv('../data/fully_cleansed_dev_data.csv', encoding='ISO-8859-1', keep_default_na=False)\n",
    "test_data = pd.read_csv('../data/fully_cleansed_test_data.csv', encoding='ISO-8859-1', keep_default_na=False)"
   ]
  },
  {
   "cell_type": "code",
   "execution_count": 36,
   "metadata": {},
   "outputs": [
    {
     "data": {
      "text/html": [
       "<div>\n",
       "<style scoped>\n",
       "    .dataframe tbody tr th:only-of-type {\n",
       "        vertical-align: middle;\n",
       "    }\n",
       "\n",
       "    .dataframe tbody tr th {\n",
       "        vertical-align: top;\n",
       "    }\n",
       "\n",
       "    .dataframe thead th {\n",
       "        text-align: right;\n",
       "    }\n",
       "</style>\n",
       "<table border=\"1\" class=\"dataframe\">\n",
       "  <thead>\n",
       "    <tr style=\"text-align: right;\">\n",
       "      <th></th>\n",
       "      <th>text</th>\n",
       "      <th>sentiment</th>\n",
       "    </tr>\n",
       "  </thead>\n",
       "  <tbody>\n",
       "    <tr>\n",
       "      <th>0</th>\n",
       "      <td>can someon fix twitter pleas smell of aquat ma...</td>\n",
       "      <td>0</td>\n",
       "    </tr>\n",
       "    <tr>\n",
       "      <th>1</th>\n",
       "      <td>just walk up stop stori escal at peachtre cent...</td>\n",
       "      <td>0</td>\n",
       "    </tr>\n",
       "    <tr>\n",
       "      <th>2</th>\n",
       "      <td>ye there proof two lovebird go to enjoy</td>\n",
       "      <td>4</td>\n",
       "    </tr>\n",
       "    <tr>\n",
       "      <th>3</th>\n",
       "      <td>im so sorri youtub video accident delet danc v...</td>\n",
       "      <td>0</td>\n",
       "    </tr>\n",
       "    <tr>\n",
       "      <th>4</th>\n",
       "      <td>want to go home now come back on thursday</td>\n",
       "      <td>0</td>\n",
       "    </tr>\n",
       "    <tr>\n",
       "      <th>5</th>\n",
       "      <td>mmmm shamrat arriv</td>\n",
       "      <td>4</td>\n",
       "    </tr>\n",
       "    <tr>\n",
       "      <th>6</th>\n",
       "      <td>go round aunit in pool x</td>\n",
       "      <td>4</td>\n",
       "    </tr>\n",
       "    <tr>\n",
       "      <th>7</th>\n",
       "      <td>cheer buddi will good see last night bit of ba...</td>\n",
       "      <td>4</td>\n",
       "    </tr>\n",
       "    <tr>\n",
       "      <th>8</th>\n",
       "      <td>sorri to hear will come kick ass in day if wan...</td>\n",
       "      <td>0</td>\n",
       "    </tr>\n",
       "    <tr>\n",
       "      <th>9</th>\n",
       "      <td>think time to retir saab</td>\n",
       "      <td>0</td>\n",
       "    </tr>\n",
       "  </tbody>\n",
       "</table>\n",
       "</div>"
      ],
      "text/plain": [
       "                                                text  sentiment\n",
       "0  can someon fix twitter pleas smell of aquat ma...          0\n",
       "1  just walk up stop stori escal at peachtre cent...          0\n",
       "2            ye there proof two lovebird go to enjoy          4\n",
       "3  im so sorri youtub video accident delet danc v...          0\n",
       "4          want to go home now come back on thursday          0\n",
       "5                                 mmmm shamrat arriv          4\n",
       "6                           go round aunit in pool x          4\n",
       "7  cheer buddi will good see last night bit of ba...          4\n",
       "8  sorri to hear will come kick ass in day if wan...          0\n",
       "9                           think time to retir saab          0"
      ]
     },
     "execution_count": 36,
     "metadata": {},
     "output_type": "execute_result"
    }
   ],
   "source": [
    "train_data.head(10)"
   ]
  },
  {
   "cell_type": "code",
   "execution_count": 37,
   "metadata": {},
   "outputs": [
    {
     "name": "stdout",
     "output_type": "stream",
     "text": [
      "train_data: 1024000\n",
      "dev_data: 256000\n",
      "test_data: 320000\n"
     ]
    }
   ],
   "source": [
    "X_train = train_data['text'].values\n",
    "X_dev = dev_data['text'].values\n",
    "X_test = test_data['text'].values\n",
    "\n",
    "print('train_data: ' + str(len(X_train)))\n",
    "print('dev_data: ' + str(len(X_dev)))\n",
    "print('test_data: ' + str(len(X_test)))"
   ]
  },
  {
   "cell_type": "code",
   "execution_count": 38,
   "metadata": {
    "_cell_guid": "43632d2d-6160-12ce-48b0-e5eb1c207076"
   },
   "outputs": [],
   "source": [
    "max_fatures = 20000\n",
    "tokenizer = Tokenizer(num_words=max_fatures, split=' ')\n",
    "tokenizer.fit_on_texts(X_train)"
   ]
  },
  {
   "cell_type": "code",
   "execution_count": 39,
   "metadata": {},
   "outputs": [],
   "source": [
    "X_train = tokenizer.texts_to_sequences(X_train)\n",
    "X_train = pad_sequences(X_train)\n",
    "\n",
    "X_dev = tokenizer.texts_to_sequences(X_dev)\n",
    "X_dev = pad_sequences(X_dev, maxlen=X_train.shape[1])\n",
    "\n",
    "X_test = tokenizer.texts_to_sequences(X_test)\n",
    "X_test = pad_sequences(X_test, maxlen=X_train.shape[1])"
   ]
  },
  {
   "cell_type": "code",
   "execution_count": 40,
   "metadata": {},
   "outputs": [
    {
     "name": "stdout",
     "output_type": "stream",
     "text": [
      "The shape of X_train: (1024000, 117)\n",
      "The shape of X_dev: (256000, 117)\n",
      "The shape of X_test: (320000, 117)\n"
     ]
    }
   ],
   "source": [
    "print('The shape of X_train: {}'.format(X_train.shape))\n",
    "print('The shape of X_dev: {}'.format(X_dev.shape))\n",
    "print('The shape of X_test: {}'.format(X_test.shape))"
   ]
  },
  {
   "cell_type": "code",
   "execution_count": 41,
   "metadata": {
    "_cell_guid": "b35748b8-2353-3db2-e571-5fd22bb93eb0"
   },
   "outputs": [
    {
     "name": "stdout",
     "output_type": "stream",
     "text": [
      "The shape of Y_train: (1024000, 2)\n",
      "The shape of Y_dev: (256000, 2)\n",
      "The shape of Y_test: (320000, 2)\n"
     ]
    }
   ],
   "source": [
    "Y_train = pd.get_dummies(train_data['sentiment']).values\n",
    "Y_dev = pd.get_dummies(dev_data['sentiment']).values\n",
    "Y_test = pd.get_dummies(test_data['sentiment']).values\n",
    "\n",
    "print('The shape of Y_train: {}'.format(Y_train.shape))\n",
    "print('The shape of Y_dev: {}'.format(Y_dev.shape))\n",
    "print('The shape of Y_test: {}'.format(Y_test.shape))"
   ]
  },
  {
   "cell_type": "code",
   "execution_count": 42,
   "metadata": {},
   "outputs": [],
   "source": [
    "np.save('../sequence/x_train_word_20000', X_train)\n",
    "np.save('../sequence/x_dev_word_20000', X_dev)\n",
    "np.save('../sequence/x_test_word_20000', X_test)\n",
    "np.save('../sequence/y_train', Y_train)\n",
    "np.save('../sequence/y_dev', Y_dev)\n",
    "np.save('../sequence/y_test', Y_test)"
   ]
  },
  {
   "cell_type": "code",
   "execution_count": 2,
   "metadata": {},
   "outputs": [],
   "source": [
    "X_train = np.load('../sequence/x_train_word_10000.npy')\n",
    "X_dev = np.load('../sequence/x_dev_word_10000.npy')\n",
    "X_test = np.load('../sequence/x_test_word_10000.npy')\n",
    "Y_train = np.load('../sequence/y_train.npy')\n",
    "Y_dev = np.load('../sequence/y_dev.npy')\n",
    "Y_test = np.load('../sequence/y_test.npy')"
   ]
  },
  {
   "cell_type": "markdown",
   "metadata": {},
   "source": [
    "We should explore LSTM, CuDNNLSTM, GRU, CuDNNGRU cells. CuDNN cells have following limitations: 1. The activation function has to be `tanh`. 2. It doesn't support dropout."
   ]
  },
  {
   "cell_type": "code",
   "execution_count": 10,
   "metadata": {},
   "outputs": [],
   "source": [
    "# Hyperparameters tuning for LSTM: https://arxiv.org/pdf/1707.06799.pdf\n",
    "max_fatures = 10000\n",
    "embed_dim = 200\n",
    "lstm_out = 128\n",
    "input_length = X_train.shape[1]\n",
    "epochs = 6\n",
    "# The batch_size is very sensitive\n",
    "batch_size = 64\n",
    "# Why 0.5: https://www.reddit.com/r/MachineLearning/comments/3oztvk/why_50_when_using_dropout/\n",
    "# Variational Dropout: https://arxiv.org/pdf/1512.05287.pdf\n",
    "input_dropout = 0.5\n",
    "recurrent_dropout = 0.5\n",
    "embedding_layer = Embedding(max_fatures, embed_dim, input_length=input_length)"
   ]
  },
  {
   "cell_type": "markdown",
   "metadata": {},
   "source": [
    "## CuDNNLSTM Baseline"
   ]
  },
  {
   "cell_type": "code",
   "execution_count": 15,
   "metadata": {},
   "outputs": [
    {
     "name": "stdout",
     "output_type": "stream",
     "text": [
      "_________________________________________________________________\n",
      "Layer (type)                 Output Shape              Param #   \n",
      "=================================================================\n",
      "embedding_7 (Embedding)      (None, 99, 200)           2000000   \n",
      "_________________________________________________________________\n",
      "spatial_dropout1d_7 (Spatial (None, 99, 200)           0         \n",
      "_________________________________________________________________\n",
      "bidirectional_2 (Bidirection (None, 200)               241600    \n",
      "_________________________________________________________________\n",
      "dense_7 (Dense)              (None, 2)                 402       \n",
      "=================================================================\n",
      "Total params: 2,242,002\n",
      "Trainable params: 2,242,002\n",
      "Non-trainable params: 0\n",
      "_________________________________________________________________\n",
      "None\n",
      "Train on 1024000 samples, validate on 256000 samples\n",
      "Epoch 1/5\n",
      " - 669s - loss: 0.4353 - acc: 0.7972 - val_loss: 0.4137 - val_acc: 0.8107\n",
      "Epoch 2/5\n",
      " - 669s - loss: 0.4030 - acc: 0.8158 - val_loss: 0.4066 - val_acc: 0.8163\n",
      "Epoch 3/5\n",
      " - 669s - loss: 0.3897 - acc: 0.8235 - val_loss: 0.4025 - val_acc: 0.8175\n",
      "Epoch 4/5\n",
      " - 669s - loss: 0.3806 - acc: 0.8284 - val_loss: 0.4020 - val_acc: 0.8188\n",
      "Epoch 5/5\n",
      " - 670s - loss: 0.3743 - acc: 0.8321 - val_loss: 0.4046 - val_acc: 0.8187\n"
     ]
    }
   ],
   "source": [
    "params = {\n",
    "    'model_type': CuDNNLSTM,\n",
    "    'batch_size': 64,\n",
    "    'embedding_type': 'randomly initialized',\n",
    "    'embedding_dim': 200,\n",
    "    'embedding_max_features': 10000,\n",
    "    'embedding_word_index': None,\n",
    "    'embedding_pretrained_zip_path': None,\n",
    "    'embedding_pretrained_name': None,\n",
    "    'epoch': 5,\n",
    "    'rnn_dim': 100,\n",
    "    'rnn_layer_num': 1,\n",
    "    'input_length': X_train.shape[1],\n",
    "    'input_dropout': 0.5,\n",
    "    'recurrent_dropout': None,\n",
    "    'optimizer': 'adam',\n",
    "    'activation': 'sigmoid',\n",
    "    'loss': 'binary_crossentropy',\n",
    "    'is_bidirectional': True,\n",
    "}\n",
    "\n",
    "model = models.get_model(params)\n",
    "history = model.fit(\n",
    "    X_train, Y_train, epochs=params['epoch'], batch_size=params['batch_size'], verbose=2, validation_data=[X_dev, Y_dev])"
   ]
  },
  {
   "cell_type": "code",
   "execution_count": 16,
   "metadata": {},
   "outputs": [
    {
     "data": {
      "image/png": "[encoded data removed]",
      "text/plain": [
       "<Figure size 432x288 with 1 Axes>"
      ]
     },
     "metadata": {},
     "output_type": "display_data"
    },
    {
     "name": "stdout",
     "output_type": "stream",
     "text": [
      "score: 0.40240706\n",
      "acc: 0.81894375\n"
     ]
    }
   ],
   "source": [
    "models.plot_model_train_history(history)\n",
    "score, acc = model.evaluate(X_test, Y_test, verbose = 2, batch_size = params['batch_size'])\n",
    "print(\"score: %.8f\" % (score))\n",
    "print(\"acc: %.8f\" % (acc))"
   ]
  },
  {
   "cell_type": "markdown",
   "metadata": {},
   "source": [
    "## CuDNNLSTM with 5 Epochs"
   ]
  },
  {
   "cell_type": "code",
   "execution_count": 23,
   "metadata": {},
   "outputs": [
    {
     "name": "stdout",
     "output_type": "stream",
     "text": [
      "_________________________________________________________________\n",
      "Layer (type)                 Output Shape              Param #   \n",
      "=================================================================\n",
      "embedding_4 (Embedding)      (None, 40, 200)           4000000   \n",
      "_________________________________________________________________\n",
      "spatial_dropout1d_4 (Spatial (None, 40, 200)           0         \n",
      "_________________________________________________________________\n",
      "cu_dnnlstm_4 (CuDNNLSTM)     (None, 100)               120800    \n",
      "_________________________________________________________________\n",
      "dense_3 (Dense)              (None, 2)                 202       \n",
      "=================================================================\n",
      "Total params: 4,121,002\n",
      "Trainable params: 4,121,002\n",
      "Non-trainable params: 0\n",
      "_________________________________________________________________\n",
      "None\n",
      "Train on 1280000 samples, validate on 320000 samples\n",
      "Epoch 1/3\n",
      " - 299s - loss: 0.4174 - acc: 0.8076 - val_loss: 0.3887 - val_acc: 0.8236\n",
      "Epoch 2/3\n",
      " - 299s - loss: 0.3793 - acc: 0.8294 - val_loss: 0.3799 - val_acc: 0.8280\n",
      "Epoch 3/3\n",
      " - 299s - loss: 0.3634 - acc: 0.8380 - val_loss: 0.3784 - val_acc: 0.8300\n"
     ]
    }
   ],
   "source": [
    "params = {\n",
    "    'model_type': CuDNNLSTM,\n",
    "    'batch_size': 64,\n",
    "    'embedding_type': 'randomly initialized',\n",
    "    'embedding_dim': 200,\n",
    "    'embedding_max_features': 10000,\n",
    "    'embedding_word_index': None,\n",
    "    'embedding_pretrained_zip_path': None,\n",
    "    'embedding_pretrained_name': None,\n",
    "    'epoch': 3,\n",
    "    'rnn_dim': 100,\n",
    "    'rnn_layer_num': 1,\n",
    "    'input_length': X_train.shape[1],\n",
    "    'input_dropout': 0.5,\n",
    "    'recurrent_dropout': None,\n",
    "    'optimizer': 'adam',\n",
    "    'activation': 'sigmoid',\n",
    "    'loss': 'binary_crossentropy',\n",
    "    'is_bidirectional': False,\n",
    "}\n",
    "\n",
    "model = models.get_model(params)\n",
    "history = model.fit(\n",
    "    X_train, Y_train, epochs=params['epoch'], batch_size=params['batch_size'], verbose=2, validation_data=[X_dev, Y_dev])"
   ]
  },
  {
   "cell_type": "code",
   "execution_count": 26,
   "metadata": {},
   "outputs": [
    {
     "data": {
      "image/png": "[encoded data removed]",
      "text/plain": [
       "<Figure size 432x288 with 1 Axes>"
      ]
     },
     "metadata": {},
     "output_type": "display_data"
    },
    {
     "name": "stdout",
     "output_type": "stream",
     "text": [
      "score: 0.39165074\n",
      "acc: 0.82172702\n"
     ]
    }
   ],
   "source": [
    "models.plot_model_train_history(history)\n",
    "score, acc = model.evaluate(X_test, Y_test, verbose = 2, batch_size = 64)\n",
    "print(\"score: %.8f\" % (score))\n",
    "print(\"acc: %.8f\" % (acc))"
   ]
  },
  {
   "cell_type": "markdown",
   "metadata": {},
   "source": [
    "## CuDNNLSTM with 5 Epochs and 2 LSTM Layers"
   ]
  },
  {
   "cell_type": "code",
   "execution_count": 29,
   "metadata": {},
   "outputs": [
    {
     "name": "stdout",
     "output_type": "stream",
     "text": [
      "_________________________________________________________________\n",
      "Layer (type)                 Output Shape              Param #   \n",
      "=================================================================\n",
      "embedding_5 (Embedding)      (None, 40, 200)           2000000   \n",
      "_________________________________________________________________\n",
      "spatial_dropout1d_4 (Spatial (None, 40, 200)           0         \n",
      "_________________________________________________________________\n",
      "cu_dnnlstm_5 (CuDNNLSTM)     (None, 40, 100)           120800    \n",
      "_________________________________________________________________\n",
      "cu_dnnlstm_6 (CuDNNLSTM)     (None, 100)               80800     \n",
      "_________________________________________________________________\n",
      "dense_4 (Dense)              (None, 2)                 202       \n",
      "=================================================================\n",
      "Total params: 2,201,802\n",
      "Trainable params: 2,201,802\n",
      "Non-trainable params: 0\n",
      "_________________________________________________________________\n",
      "None\n",
      "Train on 1280000 samples, validate on 320000 samples\n",
      "Epoch 1/5\n",
      " - 160s - loss: 0.4274 - acc: 0.8015 - val_loss: 0.4013 - val_acc: 0.8163\n",
      "Epoch 2/5\n",
      " - 159s - loss: 0.3942 - acc: 0.8206 - val_loss: 0.3921 - val_acc: 0.8216\n",
      "Epoch 3/5\n",
      " - 159s - loss: 0.3794 - acc: 0.8287 - val_loss: 0.3853 - val_acc: 0.8257\n",
      "Epoch 4/5\n",
      " - 160s - loss: 0.3683 - acc: 0.8345 - val_loss: 0.3825 - val_acc: 0.8276\n",
      "Epoch 5/5\n",
      " - 159s - loss: 0.3593 - acc: 0.8392 - val_loss: 0.3844 - val_acc: 0.8282\n"
     ]
    }
   ],
   "source": [
    "params = {\n",
    "    'model_type': CuDNNLSTM,\n",
    "    'batch_size': 256,\n",
    "    'embedding_type': 'randomly initialized',\n",
    "    'embedding_dim': 200,\n",
    "    'embedding_max_features': 10000,\n",
    "    'embedding_word_index': None,\n",
    "    'embedding_pretrained_zip_path': None,\n",
    "    'embedding_pretrained_name': None,\n",
    "    'epoch': 5,\n",
    "    'rnn_dim': 100,\n",
    "    'rnn_layer_num': 2,\n",
    "    'input_length': X_train_sample.shape[1],\n",
    "    'input_dropout': 0.5,\n",
    "    'recurrent_dropout': None,\n",
    "    'optimizer': 'adam',\n",
    "    'activation': 'sigmoid',\n",
    "    'loss': 'binary_crossentropy',\n",
    "}\n",
    "\n",
    "model = models.get_model(params)\n",
    "history = model.fit(\n",
    "    X_train_sample, Y_train_sample, epochs=params['epoch'], batch_size=params['batch_size'], verbose=2, validation_split=0.2)"
   ]
  },
  {
   "cell_type": "code",
   "execution_count": 30,
   "metadata": {},
   "outputs": [
    {
     "data": {
      "image/png": "[encoded data removed]",
      "text/plain": [
       "<Figure size 432x288 with 1 Axes>"
      ]
     },
     "metadata": {},
     "output_type": "display_data"
    },
    {
     "name": "stdout",
     "output_type": "stream",
     "text": [
      "score: 0.39044503\n",
      "acc: 0.81894150\n"
     ]
    }
   ],
   "source": [
    "models.plot_model_train_history(history)\n",
    "score, acc = model.evaluate(X_test, Y_test, verbose = 2, batch_size = batch_size)\n",
    "print(\"score: %.8f\" % (score))\n",
    "print(\"acc: %.8f\" % (acc))"
   ]
  },
  {
   "cell_type": "markdown",
   "metadata": {},
   "source": [
    "## CuDNNGRU with 5 Epochs"
   ]
  },
  {
   "cell_type": "code",
   "execution_count": 31,
   "metadata": {},
   "outputs": [
    {
     "name": "stdout",
     "output_type": "stream",
     "text": [
      "_________________________________________________________________\n",
      "Layer (type)                 Output Shape              Param #   \n",
      "=================================================================\n",
      "embedding_6 (Embedding)      (None, 40, 200)           2000000   \n",
      "_________________________________________________________________\n",
      "spatial_dropout1d_5 (Spatial (None, 40, 200)           0         \n",
      "_________________________________________________________________\n",
      "cu_dnngru_1 (CuDNNGRU)       (None, 100)               90600     \n",
      "_________________________________________________________________\n",
      "dense_5 (Dense)              (None, 2)                 202       \n",
      "=================================================================\n",
      "Total params: 2,090,802\n",
      "Trainable params: 2,090,802\n",
      "Non-trainable params: 0\n",
      "_________________________________________________________________\n",
      "None\n",
      "Train on 1280000 samples, validate on 320000 samples\n",
      "Epoch 1/5\n",
      " - 93s - loss: 0.4287 - acc: 0.8012 - val_loss: 0.4021 - val_acc: 0.8166\n",
      "Epoch 2/5\n",
      " - 92s - loss: 0.3942 - acc: 0.8209 - val_loss: 0.3913 - val_acc: 0.8220\n",
      "Epoch 3/5\n",
      " - 92s - loss: 0.3803 - acc: 0.8283 - val_loss: 0.3876 - val_acc: 0.8249\n",
      "Epoch 4/5\n",
      " - 92s - loss: 0.3702 - acc: 0.8338 - val_loss: 0.3849 - val_acc: 0.8263\n",
      "Epoch 5/5\n",
      " - 92s - loss: 0.3622 - acc: 0.8380 - val_loss: 0.3843 - val_acc: 0.8274\n"
     ]
    }
   ],
   "source": [
    "params = {\n",
    "    'model_type': CuDNNGRU,\n",
    "    'batch_size': 256,\n",
    "    'embedding_type': 'randomly initialized',\n",
    "    'embedding_dim': 200,\n",
    "    'embedding_max_features': 10000,\n",
    "    'embedding_word_index': None,\n",
    "    'embedding_pretrained_zip_path': None,\n",
    "    'embedding_pretrained_name': None,\n",
    "    'epoch': 5,\n",
    "    'rnn_dim': 100,\n",
    "    'rnn_layer_num': 1,\n",
    "    'input_length': X_train_sample.shape[1],\n",
    "    'input_dropout': 0.5,\n",
    "    'recurrent_dropout': None,\n",
    "    'optimizer': 'adam',\n",
    "    'activation': 'sigmoid',\n",
    "    'loss': 'binary_crossentropy',\n",
    "}\n",
    "\n",
    "model = models.get_model(params)\n",
    "history = model.fit(\n",
    "    X_train_sample, Y_train_sample, epochs=params['epoch'], batch_size=params['batch_size'], verbose=2, validation_split=0.2)"
   ]
  },
  {
   "cell_type": "code",
   "execution_count": 32,
   "metadata": {},
   "outputs": [
    {
     "data": {
      "image/png": "[encoded data removed]",
      "text/plain": [
       "<Figure size 432x288 with 1 Axes>"
      ]
     },
     "metadata": {},
     "output_type": "display_data"
    },
    {
     "name": "stdout",
     "output_type": "stream",
     "text": [
      "score: 0.39041958\n",
      "acc: 0.81197772\n"
     ]
    }
   ],
   "source": [
    "models.plot_model_train_history(history)\n",
    "score, acc = model.evaluate(X_test, Y_test, verbose = 2, batch_size = batch_size)\n",
    "print(\"score: %.8f\" % (score))\n",
    "print(\"acc: %.8f\" % (acc))"
   ]
  },
  {
   "cell_type": "markdown",
   "metadata": {},
   "source": [
    "## LSTM with 5 Epochs and 0.5 Recurrent Dropout"
   ]
  },
  {
   "cell_type": "code",
   "execution_count": null,
   "metadata": {},
   "outputs": [],
   "source": [
    "params = {\n",
    "    'model_type': LSTM,\n",
    "    'batch_size': 256,\n",
    "    'embedding_type': 'randomly initialized',\n",
    "    'embedding_dim': 200,\n",
    "    'embedding_max_features': 10000,\n",
    "    'embedding_word_index': None,\n",
    "    'embedding_pretrained_zip_path': None,\n",
    "    'embedding_pretrained_name': None,\n",
    "    'epoch': 5,\n",
    "    'rnn_dim': 100,\n",
    "    'rnn_layer_num': 1,\n",
    "    'input_length': X_train_sample.shape[1],\n",
    "    'input_dropout': 0.5,\n",
    "    'recurrent_dropout': 0.5,\n",
    "    'optimizer': 'adam',\n",
    "    'activation': 'sigmoid',\n",
    "    'loss': 'binary_crossentropy',\n",
    "}\n",
    "\n",
    "model = models.get_model(params)\n",
    "history = model.fit(\n",
    "    X_train_sample, Y_train_sample, epochs=params['epoch'], batch_size=params['batch_size'], verbose=2, validation_split=0.2)"
   ]
  },
  {
   "cell_type": "code",
   "execution_count": 34,
   "metadata": {},
   "outputs": [
    {
     "data": {
      "image/png": "[encoded data removed]",
      "text/plain": [
       "<Figure size 432x288 with 1 Axes>"
      ]
     },
     "metadata": {},
     "output_type": "display_data"
    },
    {
     "name": "stdout",
     "output_type": "stream",
     "text": [
      "score: 0.37285437\n",
      "acc: 0.82729806\n"
     ]
    }
   ],
   "source": [
    "models.plot_model_train_history(history)\n",
    "score, acc = model.evaluate(X_test, Y_test, verbose = 2, batch_size = batch_size)\n",
    "print(\"score: %.8f\" % (score))\n",
    "print(\"acc: %.8f\" % (acc))"
   ]
  },
  {
   "cell_type": "markdown",
   "metadata": {},
   "source": [
    "## CuDNNLSTM with 5 Epochs and Glove Embedding"
   ]
  },
  {
   "cell_type": "code",
   "execution_count": 10,
   "metadata": {},
   "outputs": [
    {
     "name": "stdout",
     "output_type": "stream",
     "text": [
      "_________________________________________________________________\n",
      "Layer (type)                 Output Shape              Param #   \n",
      "=================================================================\n",
      "embedding_2 (Embedding)      (None, 117, 200)          4000000   \n",
      "_________________________________________________________________\n",
      "spatial_dropout1d_2 (Spatial (None, 117, 200)          0         \n",
      "_________________________________________________________________\n",
      "cu_dnnlstm_1 (CuDNNLSTM)     (None, 100)               120800    \n",
      "_________________________________________________________________\n",
      "dense_2 (Dense)              (None, 2)                 202       \n",
      "=================================================================\n",
      "Total params: 4,121,002\n",
      "Trainable params: 4,121,002\n",
      "Non-trainable params: 0\n",
      "_________________________________________________________________\n",
      "None\n",
      "Train on 1280000 samples, validate on 320000 samples\n",
      "Epoch 1/5\n",
      " - 238s - loss: 0.4194 - acc: 0.8068 - val_loss: 0.3906 - val_acc: 0.8228\n",
      "Epoch 2/5\n",
      " - 238s - loss: 0.3803 - acc: 0.8285 - val_loss: 0.3826 - val_acc: 0.8270\n",
      "Epoch 3/5\n",
      " - 239s - loss: 0.3628 - acc: 0.8379 - val_loss: 0.3806 - val_acc: 0.8301\n",
      "Epoch 4/5\n",
      " - 239s - loss: 0.3492 - acc: 0.8449 - val_loss: 0.3784 - val_acc: 0.8313\n",
      "Epoch 5/5\n",
      " - 239s - loss: 0.3371 - acc: 0.8513 - val_loss: 0.3833 - val_acc: 0.8310\n"
     ]
    }
   ],
   "source": [
    "# Skip customized data preprocessing when use pre-trained embedding\n",
    "\n",
    "params = {\n",
    "    'model_type': CuDNNLSTM,\n",
    "    'batch_size': 256,\n",
    "    'embedding_type': 'randomly initialized',\n",
    "    'embedding_dim': 200,\n",
    "    'embedding_max_features': 20000,\n",
    "    'embedding_word_index': tokenizer.word_index,\n",
    "    'embedding_pretrained_zip_path': '../glove.twitter.27B.zip',\n",
    "    'embedding_pretrained_name': 'glove.twitter.27B.200d.txt',\n",
    "    'epoch': 5,\n",
    "    'rnn_dim': 100,\n",
    "    'rnn_layer_num': 1,\n",
    "    'input_length': X_train_sample.shape[1],\n",
    "    'input_dropout': 0.5,\n",
    "    'recurrent_dropout': 0.5,\n",
    "    'optimizer': 'adam',\n",
    "    'activation': 'sigmoid',\n",
    "    'loss': 'binary_crossentropy',\n",
    "}\n",
    "\n",
    "model = models.get_model(params)\n",
    "history = model.fit(\n",
    "    X_train_sample, Y_train_sample, epochs=params['epoch'], batch_size=params['batch_size'], verbose=2, validation_split=0.2)"
   ]
  },
  {
   "cell_type": "code",
   "execution_count": 15,
   "metadata": {},
   "outputs": [
    {
     "data": {
      "image/png": "[encoded data removed]",
      "text/plain": [
       "<Figure size 432x288 with 1 Axes>"
      ]
     },
     "metadata": {},
     "output_type": "display_data"
    },
    {
     "name": "stdout",
     "output_type": "stream",
     "text": [
      "score: 0.42819649\n",
      "acc: 0.80501394\n"
     ]
    }
   ],
   "source": [
    "models.plot_model_train_history(history)\n",
    "score, acc = model.evaluate(X_test, Y_test, verbose = 2, batch_size = 256)\n",
    "print(\"score: %.8f\" % (score))\n",
    "print(\"acc: %.8f\" % (acc))"
   ]
  },
  {
   "cell_type": "markdown",
   "metadata": {},
   "source": [
    "## Bidirectional LSTM with 5 Epochs and 0.5 Recurrent Dropout"
   ]
  },
  {
   "cell_type": "code",
   "execution_count": 45,
   "metadata": {},
   "outputs": [
    {
     "name": "stdout",
     "output_type": "stream",
     "text": [
      "_________________________________________________________________\n",
      "Layer (type)                 Output Shape              Param #   \n",
      "=================================================================\n",
      "embedding_4 (Embedding)      (None, 38, 200)           2000000   \n",
      "_________________________________________________________________\n",
      "spatial_dropout1d_3 (Spatial (None, 38, 200)           0         \n",
      "_________________________________________________________________\n",
      "bidirectional_2 (Bidirection (None, 200)               240800    \n",
      "_________________________________________________________________\n",
      "dense_3 (Dense)              (None, 2)                 402       \n",
      "=================================================================\n",
      "Total params: 2,241,202\n",
      "Trainable params: 2,241,202\n",
      "Non-trainable params: 0\n",
      "_________________________________________________________________\n",
      "None\n",
      "Train on 1280000 samples, validate on 320000 samples\n",
      "Epoch 1/5\n",
      " - 814s - loss: 0.4353 - acc: 0.7975 - val_loss: 0.4066 - val_acc: 0.8138\n",
      "Epoch 2/5\n",
      " - 812s - loss: 0.4013 - acc: 0.8168 - val_loss: 0.3958 - val_acc: 0.8201\n",
      "Epoch 3/5\n",
      " - 812s - loss: 0.3885 - acc: 0.8238 - val_loss: 0.3916 - val_acc: 0.8221\n",
      "Epoch 4/5\n",
      " - 812s - loss: 0.3794 - acc: 0.8286 - val_loss: 0.3896 - val_acc: 0.8237\n",
      "Epoch 5/5\n",
      " - 813s - loss: 0.3724 - acc: 0.8326 - val_loss: 0.3893 - val_acc: 0.8245\n"
     ]
    }
   ],
   "source": [
    "params = {\n",
    "    'model_type': LSTM,\n",
    "    'batch_size': 256,\n",
    "    'embedding_type': 'randomly initialized',\n",
    "    'embedding_dim': 200,\n",
    "    'embedding_max_features': 10000,\n",
    "    'embedding_word_index': None,\n",
    "    'embedding_pretrained_zip_path': None,\n",
    "    'embedding_pretrained_name': None,\n",
    "    'epoch': 5,\n",
    "    'rnn_dim': 100,\n",
    "    'rnn_layer_num': 1,\n",
    "    'input_length': X_train.shape[1],\n",
    "    'input_dropout': 0.5,\n",
    "    'recurrent_dropout': 0.5,\n",
    "    'optimizer': 'adam',\n",
    "    'activation': 'sigmoid',\n",
    "    'loss': 'binary_crossentropy',\n",
    "    'is_bidirectional': True,\n",
    "}\n",
    "\n",
    "model = models.get_model(params)\n",
    "history = model.fit(\n",
    "    X_train, Y_train, epochs=params['epoch'], batch_size=params['batch_size'], verbose=2, validation_data=[X_dev, Y_dev])"
   ]
  },
  {
   "cell_type": "code",
   "execution_count": 47,
   "metadata": {},
   "outputs": [
    {
     "data": {
      "image/png": "[encoded data removed]",
      "text/plain": [
       "<Figure size 432x288 with 1 Axes>"
      ]
     },
     "metadata": {},
     "output_type": "display_data"
    },
    {
     "name": "stdout",
     "output_type": "stream",
     "text": [
      "score: 0.37662466\n",
      "acc: 0.82451253\n"
     ]
    }
   ],
   "source": [
    "models.plot_model_train_history(history)\n",
    "score, acc = model.evaluate(X_test, Y_test, verbose = 2, batch_size = batch_size)\n",
    "print(\"score: %.8f\" % (score))\n",
    "print(\"acc: %.8f\" % (acc))"
   ]
  },
  {
   "cell_type": "markdown",
   "metadata": {
    "_cell_guid": "4ebd7bc1-53c0-0e31-a0b0-b6d0a3017434"
   },
   "source": [
    "Extracting a validation set, and measuring score and accuracy."
   ]
  },
  {
   "cell_type": "markdown",
   "metadata": {},
   "source": [
    "To improve:\n",
    "1. The model is suffering from overfitting. We should add more dropout layers and try other regularization methods.\n",
    "2. Systematically search for the optimal combination of hyperparameters\n",
    "3. Try pretrained embedding, bidirectional RNN, combination of word and character level embedding (https://papers.nips.cc/paper/5782-character-level-convolutional-networks-for-text-classification.pdf)"
   ]
  },
  {
   "cell_type": "code",
   "execution_count": null,
   "metadata": {},
   "outputs": [],
   "source": []
  }
 ],
 "metadata": {
  "_change_revision": 185,
  "_is_fork": false,
  "kernelspec": {
   "display_name": "Python 3",
   "language": "python",
   "name": "python3"
  },
  "language_info": {
   "codemirror_mode": {
    "name": "ipython",
    "version": 3
   },
   "file_extension": ".py",
   "mimetype": "text/x-python",
   "name": "python",
   "nbconvert_exporter": "python",
   "pygments_lexer": "ipython3",
   "version": "3.5.3"
  }
 },
 "nbformat": 4,
 "nbformat_minor": 1
}
