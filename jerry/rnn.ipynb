{
 "cells": [
  {
   "cell_type": "code",
   "execution_count": 2,
   "metadata": {
    "_cell_guid": "6c53202d-5c34-4859-e7e9-8ef5c7068287"
   },
   "outputs": [
    {
     "data": {
      "text/plain": [
       "<module 'models' from '/home/jerrysong/w266-Final-project/jerry/models.py'>"
      ]
     },
     "execution_count": 2,
     "metadata": {},
     "output_type": "execute_result"
    }
   ],
   "source": [
    "\"\"\"Reference: https://github.com/nagypeterjob/Sentiment-Analysis-NLTK-ML-LSTM/blob/master/lstm.ipynb\"\"\"\n",
    "\n",
    "import numpy as np \n",
    "import pandas as pd\n",
    "import matplotlib.pyplot as plt\n",
    "import importlib\n",
    "import utils\n",
    "import models\n",
    "\n",
    "from collections import Counter\n",
    "from sklearn.feature_extraction.text import CountVectorizer\n",
    "from keras.preprocessing.text import Tokenizer\n",
    "from keras.preprocessing.sequence import pad_sequences\n",
    "from keras.models import Sequential\n",
    "from keras.layers import Dense, Embedding, CuDNNLSTM, CuDNNGRU, LSTM, GRU, SpatialDropout1D\n",
    "from sklearn.model_selection import train_test_split\n",
    "from keras.utils.np_utils import to_categorical\n",
    "import re\n",
    "import zipfile\n",
    "\n",
    "importlib.reload(utils)\n",
    "importlib.reload(models)"
   ]
  },
  {
   "cell_type": "markdown",
   "metadata": {
    "_cell_guid": "2bc2702e-d6f4-df5f-b80e-50ab23a6d29e"
   },
   "source": [
    "Only keeping the needed columns."
   ]
  },
  {
   "cell_type": "code",
   "execution_count": 3,
   "metadata": {
    "_cell_guid": "89c8c923-c0bf-7b35-9ab8-e63f00b74e5a"
   },
   "outputs": [],
   "source": [
    "train_data = pd.read_csv('../data/sentiment140_train.zip', encoding='ISO-8859-1', header=None, names=['sentiment','id','timestamp','type','user','text'])\n",
    "test_data = pd.read_csv('../data/sentiment140_test.zip', encoding='ISO-8859-1', header=None, names=['sentiment','id','timestamp','type','user','text'])\n",
    "\n",
    "# The original training data are sorted by sentiment value. Shuffle the training data for randomness\n",
    "train_data = train_data[['text','sentiment']].sample(frac=1, random_state=40)\n",
    "test_data = test_data[['text','sentiment']]"
   ]
  },
  {
   "cell_type": "code",
   "execution_count": 3,
   "metadata": {},
   "outputs": [],
   "source": [
    "utils.preprocess(train_data)\n",
    "utils.preprocess(test_data)"
   ]
  },
  {
   "cell_type": "code",
   "execution_count": 4,
   "metadata": {},
   "outputs": [
    {
     "data": {
      "text/plain": [
       "text         object\n",
       "sentiment     int64\n",
       "dtype: object"
      ]
     },
     "execution_count": 4,
     "metadata": {},
     "output_type": "execute_result"
    }
   ],
   "source": [
    "train_data.dtypes"
   ]
  },
  {
   "cell_type": "code",
   "execution_count": 5,
   "metadata": {},
   "outputs": [
    {
     "data": {
      "text/html": [
       "<div>\n",
       "<style scoped>\n",
       "    .dataframe tbody tr th:only-of-type {\n",
       "        vertical-align: middle;\n",
       "    }\n",
       "\n",
       "    .dataframe tbody tr th {\n",
       "        vertical-align: top;\n",
       "    }\n",
       "\n",
       "    .dataframe thead th {\n",
       "        text-align: right;\n",
       "    }\n",
       "</style>\n",
       "<table border=\"1\" class=\"dataframe\">\n",
       "  <thead>\n",
       "    <tr style=\"text-align: right;\">\n",
       "      <th></th>\n",
       "      <th>text</th>\n",
       "      <th>sentiment</th>\n",
       "    </tr>\n",
       "  </thead>\n",
       "  <tbody>\n",
       "    <tr>\n",
       "      <th>551218</th>\n",
       "      <td>i dont want to leave</td>\n",
       "      <td>0</td>\n",
       "    </tr>\n",
       "    <tr>\n",
       "      <th>1512535</th>\n",
       "      <td>good nite all sleep tight dont let the bed bug...</td>\n",
       "      <td>4</td>\n",
       "    </tr>\n",
       "    <tr>\n",
       "      <th>1295295</th>\n",
       "      <td>its a beautiful day guess whos going to see uD...</td>\n",
       "      <td>4</td>\n",
       "    </tr>\n",
       "    <tr>\n",
       "      <th>893979</th>\n",
       "      <td>yay for ikea swedish meatballs</td>\n",
       "      <td>4</td>\n",
       "    </tr>\n",
       "    <tr>\n",
       "      <th>279338</th>\n",
       "      <td>and god knows how many more singstar and buzz ...</td>\n",
       "      <td>0</td>\n",
       "    </tr>\n",
       "    <tr>\n",
       "      <th>886145</th>\n",
       "      <td>rosie_edward thanks you so much for following ...</td>\n",
       "      <td>4</td>\n",
       "    </tr>\n",
       "    <tr>\n",
       "      <th>1504955</th>\n",
       "      <td>good morning all hope ur day started well</td>\n",
       "      <td>4</td>\n",
       "    </tr>\n",
       "    <tr>\n",
       "      <th>728643</th>\n",
       "      <td>so bored weekend is almost over</td>\n",
       "      <td>0</td>\n",
       "    </tr>\n",
       "    <tr>\n",
       "      <th>1005200</th>\n",
       "      <td>carlaloo jajanika found our entry woohoo check...</td>\n",
       "      <td>4</td>\n",
       "    </tr>\n",
       "    <tr>\n",
       "      <th>1148569</th>\n",
       "      <td>ooh look who seems to be working tonight way t...</td>\n",
       "      <td>4</td>\n",
       "    </tr>\n",
       "  </tbody>\n",
       "</table>\n",
       "</div>"
      ],
      "text/plain": [
       "                                                      text  sentiment\n",
       "551218                               i dont want to leave           0\n",
       "1512535  good nite all sleep tight dont let the bed bug...          4\n",
       "1295295  its a beautiful day guess whos going to see uD...          4\n",
       "893979                     yay for ikea swedish meatballs           4\n",
       "279338   and god knows how many more singstar and buzz ...          0\n",
       "886145   rosie_edward thanks you so much for following ...          4\n",
       "1504955         good morning all hope ur day started well           4\n",
       "728643                    so bored weekend is almost over           0\n",
       "1005200  carlaloo jajanika found our entry woohoo check...          4\n",
       "1148569  ooh look who seems to be working tonight way t...          4"
      ]
     },
     "execution_count": 5,
     "metadata": {},
     "output_type": "execute_result"
    }
   ],
   "source": [
    "train_data.head(10)"
   ]
  },
  {
   "cell_type": "code",
   "execution_count": 6,
   "metadata": {},
   "outputs": [
    {
     "data": {
      "text/plain": [
       "array([0, 4])"
      ]
     },
     "execution_count": 6,
     "metadata": {},
     "output_type": "execute_result"
    }
   ],
   "source": [
    "train_data['sentiment'].unique()"
   ]
  },
  {
   "cell_type": "code",
   "execution_count": 7,
   "metadata": {},
   "outputs": [],
   "source": [
    "vocabulary = utils.get_corpus_vocabulary(train_data)"
   ]
  },
  {
   "cell_type": "markdown",
   "metadata": {},
   "source": [
    "Plot the word count histogram of the training data"
   ]
  },
  {
   "cell_type": "code",
   "execution_count": 8,
   "metadata": {},
   "outputs": [
    {
     "name": "stdout",
     "output_type": "stream",
     "text": [
      "[1, 1, 1, 2, 2, 2, 3, 3, 4, 4, 5, 5, 6, 7, 8, 9, 9, 10, 11, 12, 14, 15, 16, 17, 19, 20, 22, 24, 26, 28, 30, 33, 35, 38, 41, 44, 47, 51, 55, 59, 63, 68, 73, 78, 83, 89, 95, 102, 109, 117, 125, 134, 143, 154, 167, 180, 194, 210, 227, 245, 265, 287, 310, 335, 363, 392, 426, 464, 506, 554, 608, 668, 736, 815, 906, 1011, 1133, 1277, 1445, 1643, 1878, 2163, 2508, 2930, 3459, 4132, 5006, 6160, 7727, 9966, 13383, 18923, 28375, 45063, 75112, 129493, 223083, 402773, 611300, 819826]\n"
     ]
    },
    {
     "data": {
      "text/plain": [
       "<BarContainer object of 100 artists>"
      ]
     },
     "execution_count": 8,
     "metadata": {},
     "output_type": "execute_result"
    },
    {
     "data": {
      "image/png": "[encoded data removed]",
      "text/plain": [
       "<Figure size 432x288 with 1 Axes>"
      ]
     },
     "metadata": {},
     "output_type": "display_data"
    }
   ],
   "source": [
    "corpus_total_cnt = sum(vocabulary.values())\n",
    "sorted_by_wd_cnt = sorted(((cnt, wd) for wd, cnt in vocabulary.items()), reverse=True)\n",
    "\n",
    "plt_points = []\n",
    "accu = 0\n",
    "j = 0\n",
    "for i in range(1, 101):\n",
    "    while accu < (corpus_total_cnt * i / 100.0):\n",
    "        accu += sorted_by_wd_cnt[j][0]\n",
    "        j += 1\n",
    "    plt_points.append(j)\n",
    "    \n",
    "print(plt_points)\n",
    "plt.bar(range(1, 101), plt_points)"
   ]
  },
  {
   "cell_type": "markdown",
   "metadata": {},
   "source": [
    "The top 10000 words account for 90% word occurance of the entire corpus."
   ]
  },
  {
   "cell_type": "code",
   "execution_count": 9,
   "metadata": {},
   "outputs": [
    {
     "name": "stdout",
     "output_type": "stream",
     "text": [
      "The size of the training corpus: 819826\n",
      "The top 10 words are: [(750807, 'i'), (564547, 'to'), (520035, 'the'), (377569, 'a'), (314054, 'my'), (298347, 'and'), (270065, 'you'), (236007, 'is'), (230839, 'it'), (215690, 'for')]\n",
      "The least 10 words are: [(1, 'DG_DGmagazine'), (1, 'DG_DGchick'), (1, 'DG_DG_manytweets'), (1, 'DG_DG_hustle_ent'), (1, 'DG_'), (1, 'DG^o'), (1, 'DG^eDG'), (1, 'DG^c'), (1, 'DG^'), (1, 'DG\\\\quot')]\n"
     ]
    }
   ],
   "source": [
    "print('The size of the training corpus: {}'.format(len(vocabulary)))\n",
    "print('The top 10 words are: {}'.format(sorted_by_wd_cnt[:10]))\n",
    "print('The least 10 words are: {}'.format(sorted_by_wd_cnt[-10:]))"
   ]
  },
  {
   "cell_type": "code",
   "execution_count": 10,
   "metadata": {},
   "outputs": [
    {
     "data": {
      "text/html": [
       "<div>\n",
       "<style scoped>\n",
       "    .dataframe tbody tr th:only-of-type {\n",
       "        vertical-align: middle;\n",
       "    }\n",
       "\n",
       "    .dataframe tbody tr th {\n",
       "        vertical-align: top;\n",
       "    }\n",
       "\n",
       "    .dataframe thead th {\n",
       "        text-align: right;\n",
       "    }\n",
       "</style>\n",
       "<table border=\"1\" class=\"dataframe\">\n",
       "  <thead>\n",
       "    <tr style=\"text-align: right;\">\n",
       "      <th></th>\n",
       "      <th>text</th>\n",
       "      <th>sentiment</th>\n",
       "    </tr>\n",
       "  </thead>\n",
       "  <tbody>\n",
       "    <tr>\n",
       "      <th>0</th>\n",
       "      <td>stellargirl i loooooooovvvvvveee my kindleDG n...</td>\n",
       "      <td>4</td>\n",
       "    </tr>\n",
       "    <tr>\n",
       "      <th>1</th>\n",
       "      <td>reading my kindleDG  love it lee childs is goo...</td>\n",
       "      <td>4</td>\n",
       "    </tr>\n",
       "    <tr>\n",
       "      <th>2</th>\n",
       "      <td>ok first assesment of the kindleDG it fucking ...</td>\n",
       "      <td>4</td>\n",
       "    </tr>\n",
       "    <tr>\n",
       "      <th>3</th>\n",
       "      <td>kenburbary youll love your kindleDG ive had mi...</td>\n",
       "      <td>4</td>\n",
       "    </tr>\n",
       "    <tr>\n",
       "      <th>4</th>\n",
       "      <td>mikefish  fair enough but i have the kindleDG ...</td>\n",
       "      <td>4</td>\n",
       "    </tr>\n",
       "    <tr>\n",
       "      <th>5</th>\n",
       "      <td>richardebaker no it is too big im quite happy ...</td>\n",
       "      <td>4</td>\n",
       "    </tr>\n",
       "    <tr>\n",
       "      <th>6</th>\n",
       "      <td>fuck this economy i hate aig and their non loa...</td>\n",
       "      <td>0</td>\n",
       "    </tr>\n",
       "    <tr>\n",
       "      <th>7</th>\n",
       "      <td>jquery is my new best friend</td>\n",
       "      <td>4</td>\n",
       "    </tr>\n",
       "    <tr>\n",
       "      <th>8</th>\n",
       "      <td>loves twitter</td>\n",
       "      <td>4</td>\n",
       "    </tr>\n",
       "    <tr>\n",
       "      <th>9</th>\n",
       "      <td>how can you not love obama he makes jokes abou...</td>\n",
       "      <td>4</td>\n",
       "    </tr>\n",
       "  </tbody>\n",
       "</table>\n",
       "</div>"
      ],
      "text/plain": [
       "                                                text  sentiment\n",
       "0  stellargirl i loooooooovvvvvveee my kindleDG n...          4\n",
       "1  reading my kindleDG  love it lee childs is goo...          4\n",
       "2  ok first assesment of the kindleDG it fucking ...          4\n",
       "3  kenburbary youll love your kindleDG ive had mi...          4\n",
       "4  mikefish  fair enough but i have the kindleDG ...          4\n",
       "5  richardebaker no it is too big im quite happy ...          4\n",
       "6  fuck this economy i hate aig and their non loa...          0\n",
       "7                       jquery is my new best friend          4\n",
       "8                                      loves twitter          4\n",
       "9  how can you not love obama he makes jokes abou...          4"
      ]
     },
     "execution_count": 10,
     "metadata": {},
     "output_type": "execute_result"
    }
   ],
   "source": [
    "test_data.head(10)"
   ]
  },
  {
   "cell_type": "code",
   "execution_count": 11,
   "metadata": {},
   "outputs": [
    {
     "data": {
      "text/plain": [
       "array([4, 0, 2])"
      ]
     },
     "execution_count": 11,
     "metadata": {},
     "output_type": "execute_result"
    }
   ],
   "source": [
    "test_data['sentiment'].unique()"
   ]
  },
  {
   "cell_type": "markdown",
   "metadata": {},
   "source": [
    "Remove rows with neural sentiment score from the test data, since they don't exist in the train data"
   ]
  },
  {
   "cell_type": "code",
   "execution_count": 4,
   "metadata": {},
   "outputs": [
    {
     "data": {
      "text/plain": [
       "array([4, 0])"
      ]
     },
     "execution_count": 4,
     "metadata": {},
     "output_type": "execute_result"
    }
   ],
   "source": [
    "test_data = test_data[test_data['sentiment'].isin([0, 4])]\n",
    "test_data['sentiment'].unique()"
   ]
  },
  {
   "cell_type": "code",
   "execution_count": 13,
   "metadata": {},
   "outputs": [
    {
     "name": "stdout",
     "output_type": "stream",
     "text": [
      "Positive rows: 800000\n",
      "Negative rows: 800000\n"
     ]
    }
   ],
   "source": [
    "print('Positive rows: {}'.format(train_data[ train_data['sentiment'] == 4]['sentiment'].size))\n",
    "print('Negative rows: {}'.format(train_data[ train_data['sentiment'] == 0]['sentiment'].size))"
   ]
  },
  {
   "cell_type": "code",
   "execution_count": 5,
   "metadata": {
    "_cell_guid": "43632d2d-6160-12ce-48b0-e5eb1c207076"
   },
   "outputs": [],
   "source": [
    "# Only keep top 10000 words in the vocabulary.\n",
    "max_fatures = 10000\n",
    "tokenizer = Tokenizer(num_words=max_fatures, split=' ')\n",
    "tokenizer.fit_on_texts(train_data['text'].values)"
   ]
  },
  {
   "cell_type": "code",
   "execution_count": 6,
   "metadata": {},
   "outputs": [],
   "source": [
    "X_train = tokenizer.texts_to_sequences(train_data['text'].values)\n",
    "X_train = pad_sequences(X_train)\n",
    "\n",
    "X_test = tokenizer.texts_to_sequences(test_data['text'].values)\n",
    "X_test = pad_sequences(X_test, maxlen=X_train.shape[1])"
   ]
  },
  {
   "cell_type": "code",
   "execution_count": 16,
   "metadata": {},
   "outputs": [
    {
     "name": "stdout",
     "output_type": "stream",
     "text": [
      "The shape of X_train: (1600000, 40)\n",
      "The shape of X_test: (359, 40)\n"
     ]
    }
   ],
   "source": [
    "print('The shape of X_train: {}'.format(X_train.shape))\n",
    "print('The shape of X_test: {}'.format(X_test.shape))"
   ]
  },
  {
   "cell_type": "code",
   "execution_count": 17,
   "metadata": {},
   "outputs": [
    {
     "name": "stdout",
     "output_type": "stream",
     "text": [
      "[  0   0   0   0   0   0   0   0   0   0   0   0   0   0   0   0   0   0\n",
      "   0   0   0   0   0   0   0   0   0   0   0   0   0   0   0   0   0   1\n",
      "  40  70   2 343]\n",
      "[   0    0    0    0    0    0    0    0    0    0    0    0    0    0\n",
      "    0    0    0    0    0    0    0    0    0    1    5   26   19    3\n",
      " 9685    8  196   20    3   12    8 1010   11   25  485  112]\n"
     ]
    }
   ],
   "source": [
    "print(X_train[0])\n",
    "print(X_test[0])"
   ]
  },
  {
   "cell_type": "code",
   "execution_count": 7,
   "metadata": {
    "_cell_guid": "b35748b8-2353-3db2-e571-5fd22bb93eb0"
   },
   "outputs": [
    {
     "name": "stdout",
     "output_type": "stream",
     "text": [
      "The shape of Y_train: (1600000, 2)\n",
      "The shape of Y_test: (359, 2)\n"
     ]
    }
   ],
   "source": [
    "Y_train = pd.get_dummies(train_data['sentiment']).values\n",
    "Y_test = pd.get_dummies(test_data['sentiment']).values\n",
    "print('The shape of Y_train: {}'.format(Y_train.shape))\n",
    "print('The shape of Y_test: {}'.format(Y_test.shape))"
   ]
  },
  {
   "cell_type": "code",
   "execution_count": 19,
   "metadata": {},
   "outputs": [
    {
     "name": "stdout",
     "output_type": "stream",
     "text": [
      "[[1 0]\n",
      " [0 1]\n",
      " [0 1]\n",
      " [0 1]\n",
      " [1 0]\n",
      " [0 1]\n",
      " [0 1]\n",
      " [1 0]\n",
      " [0 1]\n",
      " [0 1]]\n",
      "[[0 1]\n",
      " [0 1]\n",
      " [0 1]\n",
      " [0 1]\n",
      " [0 1]\n",
      " [0 1]\n",
      " [1 0]\n",
      " [0 1]\n",
      " [0 1]\n",
      " [0 1]]\n"
     ]
    }
   ],
   "source": [
    "print(Y_train[:10])\n",
    "print(Y_test[:10])"
   ]
  },
  {
   "cell_type": "code",
   "execution_count": 8,
   "metadata": {},
   "outputs": [],
   "source": [
    "size_limit = len(X_train)\n",
    "X_train_sample, Y_train_sample = X_train[:size_limit], Y_train[:size_limit]"
   ]
  },
  {
   "cell_type": "markdown",
   "metadata": {},
   "source": [
    "We should explore LSTM, CuDNNLSTM, GRU, CuDNNGRU cells. CuDNN cells have following limitations: 1. The activation function has to be `tanh`. 2. It doesn't support dropout."
   ]
  },
  {
   "cell_type": "code",
   "execution_count": 12,
   "metadata": {},
   "outputs": [],
   "source": [
    "# Hyperparameters tuning for LSTM: https://arxiv.org/pdf/1707.06799.pdf\n",
    "embed_dim = 200\n",
    "lstm_out = 100\n",
    "input_length = X_train.shape[1]\n",
    "epochs = 6\n",
    "batch_size = 256\n",
    "# Why 0.5: https://www.reddit.com/r/MachineLearning/comments/3oztvk/why_50_when_using_dropout/\n",
    "# Variational Dropout: https://arxiv.org/pdf/1512.05287.pdf\n",
    "input_dropout = 0.5\n",
    "recurrent_dropout = 0.5\n",
    "embedding_layer = Embedding(max_fatures, embed_dim, input_length=input_length)"
   ]
  },
  {
   "cell_type": "markdown",
   "metadata": {},
   "source": [
    "## CuDNNLSTM Baseline"
   ]
  },
  {
   "cell_type": "code",
   "execution_count": 22,
   "metadata": {},
   "outputs": [
    {
     "name": "stdout",
     "output_type": "stream",
     "text": [
      "_________________________________________________________________\n",
      "Layer (type)                 Output Shape              Param #   \n",
      "=================================================================\n",
      "embedding_2 (Embedding)      (None, 40, 200)           2000000   \n",
      "_________________________________________________________________\n",
      "spatial_dropout1d_1 (Spatial (None, 40, 200)           0         \n",
      "_________________________________________________________________\n",
      "cu_dnnlstm_1 (CuDNNLSTM)     (None, 100)               120800    \n",
      "_________________________________________________________________\n",
      "dense_1 (Dense)              (None, 2)                 202       \n",
      "=================================================================\n",
      "Total params: 2,121,002\n",
      "Trainable params: 2,121,002\n",
      "Non-trainable params: 0\n",
      "_________________________________________________________________\n",
      "None\n",
      "Train on 1280000 samples, validate on 320000 samples\n",
      "Epoch 1/6\n",
      " - 105s - loss: 0.4285 - acc: 0.8011 - val_loss: 0.4024 - val_acc: 0.8161\n",
      "Epoch 2/6\n",
      " - 99s - loss: 0.3948 - acc: 0.8202 - val_loss: 0.3925 - val_acc: 0.8217\n",
      "Epoch 3/6\n",
      " - 99s - loss: 0.3806 - acc: 0.8277 - val_loss: 0.3872 - val_acc: 0.8248\n",
      "Epoch 4/6\n",
      " - 100s - loss: 0.3695 - acc: 0.8335 - val_loss: 0.3890 - val_acc: 0.8253\n",
      "Epoch 5/6\n",
      " - 100s - loss: 0.3607 - acc: 0.8382 - val_loss: 0.3865 - val_acc: 0.8268\n",
      "Epoch 6/6\n",
      " - 99s - loss: 0.3533 - acc: 0.8421 - val_loss: 0.3892 - val_acc: 0.8270\n"
     ]
    }
   ],
   "source": [
    "params = {\n",
    "    'model_type': CuDNNLSTM,\n",
    "    'batch_size': 256,\n",
    "    'embedding_type': 'randomly initialized',\n",
    "    'embedding_dim': 200,\n",
    "    'embedding_max_features': 10000,\n",
    "    'embedding_word_index': None,\n",
    "    'embedding_pretrained_zip_path': None,\n",
    "    'embedding_pretrained_name': None,\n",
    "    'epoch': 6,\n",
    "    'rnn_dim': 100,\n",
    "    'rnn_layer_num': 1,\n",
    "    'input_length': X_train_sample.shape[1],\n",
    "    'input_dropout': 0.5,\n",
    "    'recurrent_dropout': None,\n",
    "    'optimizer': 'adam',\n",
    "    'activation': 'sigmoid',\n",
    "    'loss': 'binary_crossentropy',\n",
    "}\n",
    "\n",
    "model = models.get_model(params)\n",
    "history = model.fit(\n",
    "    X_train_sample, Y_train_sample, epochs=params['epoch'], batch_size=params['batch_size'], verbose=2, validation_split=0.2)"
   ]
  },
  {
   "cell_type": "markdown",
   "metadata": {},
   "source": [
    "The model becomes overfitting very fast with more epochs. A smaller epoch should be better."
   ]
  },
  {
   "cell_type": "code",
   "execution_count": 24,
   "metadata": {},
   "outputs": [
    {
     "data": {
      "image/png": "[encoded data removed]",
      "text/plain": [
       "<Figure size 432x288 with 1 Axes>"
      ]
     },
     "metadata": {},
     "output_type": "display_data"
    },
    {
     "name": "stdout",
     "output_type": "stream",
     "text": [
      "score: 0.37376496\n",
      "acc: 0.82729805\n"
     ]
    }
   ],
   "source": [
    "models.plot_model_train_history(history)\n",
    "score, acc = model.evaluate(X_test, Y_test, verbose = 2, batch_size = batch_size)\n",
    "print(\"score: %.8f\" % (score))\n",
    "print(\"acc: %.8f\" % (acc))"
   ]
  },
  {
   "cell_type": "markdown",
   "metadata": {},
   "source": [
    "## CuDNNLSTM with 5 Epochs"
   ]
  },
  {
   "cell_type": "code",
   "execution_count": 25,
   "metadata": {},
   "outputs": [
    {
     "name": "stdout",
     "output_type": "stream",
     "text": [
      "_________________________________________________________________\n",
      "Layer (type)                 Output Shape              Param #   \n",
      "=================================================================\n",
      "embedding_3 (Embedding)      (None, 40, 200)           2000000   \n",
      "_________________________________________________________________\n",
      "spatial_dropout1d_2 (Spatial (None, 40, 200)           0         \n",
      "_________________________________________________________________\n",
      "cu_dnnlstm_2 (CuDNNLSTM)     (None, 100)               120800    \n",
      "_________________________________________________________________\n",
      "dense_2 (Dense)              (None, 2)                 202       \n",
      "=================================================================\n",
      "Total params: 2,121,002\n",
      "Trainable params: 2,121,002\n",
      "Non-trainable params: 0\n",
      "_________________________________________________________________\n",
      "None\n",
      "Train on 1280000 samples, validate on 320000 samples\n",
      "Epoch 1/5\n",
      " - 100s - loss: 0.4281 - acc: 0.8014 - val_loss: 0.4023 - val_acc: 0.8160\n",
      "Epoch 2/5\n",
      " - 100s - loss: 0.3943 - acc: 0.8207 - val_loss: 0.3914 - val_acc: 0.8218\n",
      "Epoch 3/5\n",
      " - 100s - loss: 0.3802 - acc: 0.8281 - val_loss: 0.3883 - val_acc: 0.8241\n",
      "Epoch 4/5\n",
      " - 100s - loss: 0.3692 - acc: 0.8342 - val_loss: 0.3854 - val_acc: 0.8263\n",
      "Epoch 5/5\n",
      " - 99s - loss: 0.3605 - acc: 0.8385 - val_loss: 0.3855 - val_acc: 0.8277\n"
     ]
    }
   ],
   "source": [
    "params = {\n",
    "    'model_type': CuDNNLSTM,\n",
    "    'batch_size': 256,\n",
    "    'embedding_type': 'randomly initialized',\n",
    "    'embedding_dim': 200,\n",
    "    'embedding_max_features': 10000,\n",
    "    'embedding_word_index': None,\n",
    "    'embedding_pretrained_zip_path': None,\n",
    "    'embedding_pretrained_name': None,\n",
    "    'epoch': 5,\n",
    "    'rnn_dim': 100,\n",
    "    'rnn_layer_num': 1,\n",
    "    'input_length': X_train_sample.shape[1],\n",
    "    'input_dropout': 0.5,\n",
    "    'recurrent_dropout': None,\n",
    "    'optimizer': 'adam',\n",
    "    'activation': 'sigmoid',\n",
    "    'loss': 'binary_crossentropy',\n",
    "}\n",
    "\n",
    "model = models.get_model(params)\n",
    "history = model.fit(\n",
    "    X_train_sample, Y_train_sample, epochs=params['epoch'], batch_size=params['batch_size'], verbose=2, validation_split=0.2)"
   ]
  },
  {
   "cell_type": "code",
   "execution_count": 27,
   "metadata": {},
   "outputs": [
    {
     "data": {
      "image/png": "[encoded data removed]",
      "text/plain": [
       "<Figure size 432x288 with 1 Axes>"
      ]
     },
     "metadata": {},
     "output_type": "display_data"
    },
    {
     "name": "stdout",
     "output_type": "stream",
     "text": [
      "score: 0.39043422\n",
      "acc: 0.82311978\n"
     ]
    }
   ],
   "source": [
    "models.plot_model_train_history(history)\n",
    "score, acc = model.evaluate(X_test, Y_test, verbose = 2, batch_size = batch_size)\n",
    "print(\"score: %.8f\" % (score))\n",
    "print(\"acc: %.8f\" % (acc))"
   ]
  },
  {
   "cell_type": "markdown",
   "metadata": {},
   "source": [
    "## CuDNNLSTM with 5 Epochs and 2 LSTM Layers"
   ]
  },
  {
   "cell_type": "code",
   "execution_count": 29,
   "metadata": {},
   "outputs": [
    {
     "name": "stdout",
     "output_type": "stream",
     "text": [
      "_________________________________________________________________\n",
      "Layer (type)                 Output Shape              Param #   \n",
      "=================================================================\n",
      "embedding_5 (Embedding)      (None, 40, 200)           2000000   \n",
      "_________________________________________________________________\n",
      "spatial_dropout1d_4 (Spatial (None, 40, 200)           0         \n",
      "_________________________________________________________________\n",
      "cu_dnnlstm_5 (CuDNNLSTM)     (None, 40, 100)           120800    \n",
      "_________________________________________________________________\n",
      "cu_dnnlstm_6 (CuDNNLSTM)     (None, 100)               80800     \n",
      "_________________________________________________________________\n",
      "dense_4 (Dense)              (None, 2)                 202       \n",
      "=================================================================\n",
      "Total params: 2,201,802\n",
      "Trainable params: 2,201,802\n",
      "Non-trainable params: 0\n",
      "_________________________________________________________________\n",
      "None\n",
      "Train on 1280000 samples, validate on 320000 samples\n",
      "Epoch 1/5\n",
      " - 160s - loss: 0.4274 - acc: 0.8015 - val_loss: 0.4013 - val_acc: 0.8163\n",
      "Epoch 2/5\n",
      " - 159s - loss: 0.3942 - acc: 0.8206 - val_loss: 0.3921 - val_acc: 0.8216\n",
      "Epoch 3/5\n",
      " - 159s - loss: 0.3794 - acc: 0.8287 - val_loss: 0.3853 - val_acc: 0.8257\n",
      "Epoch 4/5\n",
      " - 160s - loss: 0.3683 - acc: 0.8345 - val_loss: 0.3825 - val_acc: 0.8276\n",
      "Epoch 5/5\n",
      " - 159s - loss: 0.3593 - acc: 0.8392 - val_loss: 0.3844 - val_acc: 0.8282\n"
     ]
    }
   ],
   "source": [
    "params = {\n",
    "    'model_type': CuDNNLSTM,\n",
    "    'batch_size': 256,\n",
    "    'embedding_type': 'randomly initialized',\n",
    "    'embedding_dim': 200,\n",
    "    'embedding_max_features': 10000,\n",
    "    'embedding_word_index': None,\n",
    "    'embedding_pretrained_zip_path': None,\n",
    "    'embedding_pretrained_name': None,\n",
    "    'epoch': 5,\n",
    "    'rnn_dim': 100,\n",
    "    'rnn_layer_num': 2,\n",
    "    'input_length': X_train_sample.shape[1],\n",
    "    'input_dropout': 0.5,\n",
    "    'recurrent_dropout': None,\n",
    "    'optimizer': 'adam',\n",
    "    'activation': 'sigmoid',\n",
    "    'loss': 'binary_crossentropy',\n",
    "}\n",
    "\n",
    "model = models.get_model(params)\n",
    "history = model.fit(\n",
    "    X_train_sample, Y_train_sample, epochs=params['epoch'], batch_size=params['batch_size'], verbose=2, validation_split=0.2)"
   ]
  },
  {
   "cell_type": "code",
   "execution_count": 30,
   "metadata": {},
   "outputs": [
    {
     "data": {
      "image/png": "[encoded data removed]",
      "text/plain": [
       "<Figure size 432x288 with 1 Axes>"
      ]
     },
     "metadata": {},
     "output_type": "display_data"
    },
    {
     "name": "stdout",
     "output_type": "stream",
     "text": [
      "score: 0.39044503\n",
      "acc: 0.81894150\n"
     ]
    }
   ],
   "source": [
    "models.plot_model_train_history(history)\n",
    "score, acc = model.evaluate(X_test, Y_test, verbose = 2, batch_size = batch_size)\n",
    "print(\"score: %.8f\" % (score))\n",
    "print(\"acc: %.8f\" % (acc))"
   ]
  },
  {
   "cell_type": "markdown",
   "metadata": {},
   "source": [
    "## CuDNNGRU with 5 Epochs"
   ]
  },
  {
   "cell_type": "code",
   "execution_count": 31,
   "metadata": {},
   "outputs": [
    {
     "name": "stdout",
     "output_type": "stream",
     "text": [
      "_________________________________________________________________\n",
      "Layer (type)                 Output Shape              Param #   \n",
      "=================================================================\n",
      "embedding_6 (Embedding)      (None, 40, 200)           2000000   \n",
      "_________________________________________________________________\n",
      "spatial_dropout1d_5 (Spatial (None, 40, 200)           0         \n",
      "_________________________________________________________________\n",
      "cu_dnngru_1 (CuDNNGRU)       (None, 100)               90600     \n",
      "_________________________________________________________________\n",
      "dense_5 (Dense)              (None, 2)                 202       \n",
      "=================================================================\n",
      "Total params: 2,090,802\n",
      "Trainable params: 2,090,802\n",
      "Non-trainable params: 0\n",
      "_________________________________________________________________\n",
      "None\n",
      "Train on 1280000 samples, validate on 320000 samples\n",
      "Epoch 1/5\n",
      " - 93s - loss: 0.4287 - acc: 0.8012 - val_loss: 0.4021 - val_acc: 0.8166\n",
      "Epoch 2/5\n",
      " - 92s - loss: 0.3942 - acc: 0.8209 - val_loss: 0.3913 - val_acc: 0.8220\n",
      "Epoch 3/5\n",
      " - 92s - loss: 0.3803 - acc: 0.8283 - val_loss: 0.3876 - val_acc: 0.8249\n",
      "Epoch 4/5\n",
      " - 92s - loss: 0.3702 - acc: 0.8338 - val_loss: 0.3849 - val_acc: 0.8263\n",
      "Epoch 5/5\n",
      " - 92s - loss: 0.3622 - acc: 0.8380 - val_loss: 0.3843 - val_acc: 0.8274\n"
     ]
    }
   ],
   "source": [
    "params = {\n",
    "    'model_type': CuDNNGRU,\n",
    "    'batch_size': 256,\n",
    "    'embedding_type': 'randomly initialized',\n",
    "    'embedding_dim': 200,\n",
    "    'embedding_max_features': 10000,\n",
    "    'embedding_word_index': None,\n",
    "    'embedding_pretrained_zip_path': None,\n",
    "    'embedding_pretrained_name': None,\n",
    "    'epoch': 5,\n",
    "    'rnn_dim': 100,\n",
    "    'rnn_layer_num': 1,\n",
    "    'input_length': X_train_sample.shape[1],\n",
    "    'input_dropout': 0.5,\n",
    "    'recurrent_dropout': None,\n",
    "    'optimizer': 'adam',\n",
    "    'activation': 'sigmoid',\n",
    "    'loss': 'binary_crossentropy',\n",
    "}\n",
    "\n",
    "model = models.get_model(params)\n",
    "history = model.fit(\n",
    "    X_train_sample, Y_train_sample, epochs=params['epoch'], batch_size=params['batch_size'], verbose=2, validation_split=0.2)"
   ]
  },
  {
   "cell_type": "code",
   "execution_count": 32,
   "metadata": {},
   "outputs": [
    {
     "data": {
      "image/png": "[encoded data removed]",
      "text/plain": [
       "<Figure size 432x288 with 1 Axes>"
      ]
     },
     "metadata": {},
     "output_type": "display_data"
    },
    {
     "name": "stdout",
     "output_type": "stream",
     "text": [
      "score: 0.39041958\n",
      "acc: 0.81197772\n"
     ]
    }
   ],
   "source": [
    "models.plot_model_train_history(history)\n",
    "score, acc = model.evaluate(X_test, Y_test, verbose = 2, batch_size = batch_size)\n",
    "print(\"score: %.8f\" % (score))\n",
    "print(\"acc: %.8f\" % (acc))"
   ]
  },
  {
   "cell_type": "markdown",
   "metadata": {},
   "source": [
    "## LSTM with 5 Epochs and 0.5 Recurrent Dropout"
   ]
  },
  {
   "cell_type": "code",
   "execution_count": 33,
   "metadata": {},
   "outputs": [
    {
     "name": "stdout",
     "output_type": "stream",
     "text": [
      "_________________________________________________________________\n",
      "Layer (type)                 Output Shape              Param #   \n",
      "=================================================================\n",
      "embedding_7 (Embedding)      (None, 40, 200)           2000000   \n",
      "_________________________________________________________________\n",
      "spatial_dropout1d_6 (Spatial (None, 40, 200)           0         \n",
      "_________________________________________________________________\n",
      "lstm_1 (LSTM)                (None, 100)               120400    \n",
      "_________________________________________________________________\n",
      "dense_6 (Dense)              (None, 2)                 202       \n",
      "=================================================================\n",
      "Total params: 2,120,602\n",
      "Trainable params: 2,120,602\n",
      "Non-trainable params: 0\n",
      "_________________________________________________________________\n",
      "None\n",
      "Train on 1280000 samples, validate on 320000 samples\n",
      "Epoch 1/5\n",
      " - 499s - loss: 0.4351 - acc: 0.7977 - val_loss: 0.4060 - val_acc: 0.8139\n",
      "Epoch 2/5\n",
      " - 500s - loss: 0.4013 - acc: 0.8168 - val_loss: 0.3977 - val_acc: 0.8193\n",
      "Epoch 3/5\n",
      " - 495s - loss: 0.3884 - acc: 0.8236 - val_loss: 0.3929 - val_acc: 0.8218\n",
      "Epoch 4/5\n",
      " - 502s - loss: 0.3794 - acc: 0.8283 - val_loss: 0.3911 - val_acc: 0.8239\n",
      "Epoch 5/5\n",
      " - 500s - loss: 0.3727 - acc: 0.8322 - val_loss: 0.3907 - val_acc: 0.8245\n"
     ]
    }
   ],
   "source": [
    "params = {\n",
    "    'model_type': LSTM,\n",
    "    'batch_size': 256,\n",
    "    'embedding_type': 'randomly initialized',\n",
    "    'embedding_dim': 200,\n",
    "    'embedding_max_features': 10000,\n",
    "    'embedding_word_index': None,\n",
    "    'embedding_pretrained_zip_path': None,\n",
    "    'embedding_pretrained_name': None,\n",
    "    'epoch': 5,\n",
    "    'rnn_dim': 100,\n",
    "    'rnn_layer_num': 1,\n",
    "    'input_length': X_train_sample.shape[1],\n",
    "    'input_dropout': 0.5,\n",
    "    'recurrent_dropout': 0.5,\n",
    "    'optimizer': 'adam',\n",
    "    'activation': 'sigmoid',\n",
    "    'loss': 'binary_crossentropy',\n",
    "}\n",
    "\n",
    "model = models.get_model(params)\n",
    "history = model.fit(\n",
    "    X_train_sample, Y_train_sample, epochs=params['epoch'], batch_size=params['batch_size'], verbose=2, validation_split=0.2)"
   ]
  },
  {
   "cell_type": "code",
   "execution_count": 34,
   "metadata": {},
   "outputs": [
    {
     "data": {
      "image/png": "[encoded data removed]",
      "text/plain": [
       "<Figure size 432x288 with 1 Axes>"
      ]
     },
     "metadata": {},
     "output_type": "display_data"
    },
    {
     "name": "stdout",
     "output_type": "stream",
     "text": [
      "score: 0.37285437\n",
      "acc: 0.82729806\n"
     ]
    }
   ],
   "source": [
    "models.plot_model_train_history(history)\n",
    "score, acc = model.evaluate(X_test, Y_test, verbose = 2, batch_size = batch_size)\n",
    "print(\"score: %.8f\" % (score))\n",
    "print(\"acc: %.8f\" % (acc))"
   ]
  },
  {
   "cell_type": "markdown",
   "metadata": {},
   "source": [
    "## CuDNNLSTM with 5 Epochs and Glove Embedding"
   ]
  },
  {
   "cell_type": "code",
   "execution_count": 10,
   "metadata": {},
   "outputs": [
    {
     "name": "stdout",
     "output_type": "stream",
     "text": [
      "_________________________________________________________________\n",
      "Layer (type)                 Output Shape              Param #   \n",
      "=================================================================\n",
      "embedding_2 (Embedding)      (None, 117, 200)          4000000   \n",
      "_________________________________________________________________\n",
      "spatial_dropout1d_2 (Spatial (None, 117, 200)          0         \n",
      "_________________________________________________________________\n",
      "cu_dnnlstm_1 (CuDNNLSTM)     (None, 100)               120800    \n",
      "_________________________________________________________________\n",
      "dense_2 (Dense)              (None, 2)                 202       \n",
      "=================================================================\n",
      "Total params: 4,121,002\n",
      "Trainable params: 4,121,002\n",
      "Non-trainable params: 0\n",
      "_________________________________________________________________\n",
      "None\n",
      "Train on 1280000 samples, validate on 320000 samples\n",
      "Epoch 1/5\n",
      " - 238s - loss: 0.4194 - acc: 0.8068 - val_loss: 0.3906 - val_acc: 0.8228\n",
      "Epoch 2/5\n",
      " - 238s - loss: 0.3803 - acc: 0.8285 - val_loss: 0.3826 - val_acc: 0.8270\n",
      "Epoch 3/5\n",
      " - 239s - loss: 0.3628 - acc: 0.8379 - val_loss: 0.3806 - val_acc: 0.8301\n",
      "Epoch 4/5\n",
      " - 239s - loss: 0.3492 - acc: 0.8449 - val_loss: 0.3784 - val_acc: 0.8313\n",
      "Epoch 5/5\n",
      " - 239s - loss: 0.3371 - acc: 0.8513 - val_loss: 0.3833 - val_acc: 0.8310\n"
     ]
    }
   ],
   "source": [
    "# Skip customized data preprocessing when use pre-trained embedding\n",
    "\n",
    "params = {\n",
    "    'model_type': CuDNNLSTM,\n",
    "    'batch_size': 256,\n",
    "    'embedding_type': 'randomly initialized',\n",
    "    'embedding_dim': 200,\n",
    "    'embedding_max_features': 20000,\n",
    "    'embedding_word_index': tokenizer.word_index,\n",
    "    'embedding_pretrained_zip_path': '../glove.twitter.27B.zip',\n",
    "    'embedding_pretrained_name': 'glove.twitter.27B.200d.txt',\n",
    "    'epoch': 5,\n",
    "    'rnn_dim': 100,\n",
    "    'rnn_layer_num': 1,\n",
    "    'input_length': X_train_sample.shape[1],\n",
    "    'input_dropout': 0.5,\n",
    "    'recurrent_dropout': 0.5,\n",
    "    'optimizer': 'adam',\n",
    "    'activation': 'sigmoid',\n",
    "    'loss': 'binary_crossentropy',\n",
    "}\n",
    "\n",
    "model = models.get_model(params)\n",
    "history = model.fit(\n",
    "    X_train_sample, Y_train_sample, epochs=params['epoch'], batch_size=params['batch_size'], verbose=2, validation_split=0.2)"
   ]
  },
  {
   "cell_type": "code",
   "execution_count": 15,
   "metadata": {},
   "outputs": [
    {
     "data": {
      "image/png": "[encoded data removed]",
      "text/plain": [
       "<Figure size 432x288 with 1 Axes>"
      ]
     },
     "metadata": {},
     "output_type": "display_data"
    },
    {
     "name": "stdout",
     "output_type": "stream",
     "text": [
      "score: 0.42819649\n",
      "acc: 0.80501394\n"
     ]
    }
   ],
   "source": [
    "models.plot_model_train_history(history)\n",
    "score, acc = model.evaluate(X_test, Y_test, verbose = 2, batch_size = 256)\n",
    "print(\"score: %.8f\" % (score))\n",
    "print(\"acc: %.8f\" % (acc))"
   ]
  },
  {
   "cell_type": "markdown",
   "metadata": {
    "_cell_guid": "4ebd7bc1-53c0-0e31-a0b0-b6d0a3017434"
   },
   "source": [
    "Extracting a validation set, and measuring score and accuracy."
   ]
  },
  {
   "cell_type": "markdown",
   "metadata": {},
   "source": [
    "To improve:\n",
    "1. The model is suffering from overfitting. We should add more dropout layers and try other regularization methods.\n",
    "2. Systematically search for the optimal combination of hyperparameters\n",
    "3. Try pretrained embedding, bidirectional RNN, combination of word and character level embedding (https://papers.nips.cc/paper/5782-character-level-convolutional-networks-for-text-classification.pdf)"
   ]
  },
  {
   "cell_type": "code",
   "execution_count": null,
   "metadata": {},
   "outputs": [],
   "source": []
  }
 ],
 "metadata": {
  "_change_revision": 185,
  "_is_fork": false,
  "kernelspec": {
   "display_name": "Python 3",
   "language": "python",
   "name": "python3"
  },
  "language_info": {
   "codemirror_mode": {
    "name": "ipython",
    "version": 3
   },
   "file_extension": ".py",
   "mimetype": "text/x-python",
   "name": "python",
   "nbconvert_exporter": "python",
   "pygments_lexer": "ipython3",
   "version": "3.5.3"
  }
 },
 "nbformat": 4,
 "nbformat_minor": 1
}
